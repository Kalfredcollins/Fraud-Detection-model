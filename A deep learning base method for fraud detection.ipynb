{
  "cells": [
    {
      "cell_type": "code",
      "execution_count": 3,
      "metadata": {
        "id": "gvCv5o4QoOov"
      },
      "outputs": [],
      "source": [
        "# importing necessary libraries\n",
        "import numpy as np\n",
        "import pandas as pd\n",
        "import datasist as ds\n",
        "import matplotlib.pyplot as plt\n",
        "# import plotly.graph_objects as go\n",
        "# from plotly.offline import init_notebook_mode, iplot\n",
        "# init_notebook_mode(connected=True)\n",
        "import matplotlib\n",
        "import seaborn as sns\n",
        "# from autoviz.AutoViz_Class import AutoViz_Class\n",
        "from sklearn.model_selection import cross_val_score"
      ]
    },
    {
      "cell_type": "code",
      "source": [
        "# Other Libraries\n",
        "from sklearn.model_selection import train_test_split\n",
        "from sklearn.pipeline import make_pipeline\n",
        "from imblearn.pipeline import make_pipeline as imbalanced_make_pipeline\n",
        "from imblearn.over_sampling import SMOTE\n",
        "from imblearn.under_sampling import NearMiss\n",
        "from imblearn.metrics import classification_report_imbalanced\n",
        "from sklearn.metrics import precision_score, recall_score, f1_score, roc_auc_score, accuracy_score, classification_report\n",
        "from collections import Counter\n",
        "from sklearn.model_selection import KFold, StratifiedKFold\n",
        "import warnings\n",
        "warnings.filterwarnings(\"ignore\")"
      ],
      "metadata": {
        "id": "i5ww1Lh0kJiP"
      },
      "execution_count": 4,
      "outputs": []
    },
    {
      "cell_type": "code",
      "execution_count": 5,
      "metadata": {
        "id": "c-8nuBoWZ0eI"
      },
      "outputs": [],
      "source": [
        "# Classifier Libraries\n",
        "from sklearn.linear_model import LogisticRegression\n",
        "from sklearn.svm import SVC\n",
        "from sklearn.neighbors import KNeighborsClassifier\n",
        "from sklearn.tree import DecisionTreeClassifier\n",
        "from sklearn.ensemble import RandomForestClassifier\n",
        "import collections\n",
        "from catboost import CatBoostClassifier, Pool\n",
        "from lightgbm import LGBMClassifier\n",
        "from xgboost import XGBClassifier\n",
        "from sklearn.linear_model import RidgeClassifierCV, Lasso\n",
        "\n",
        "import tensorflow as tf\n",
        "from sklearn.manifold import TSNE\n",
        "from sklearn.decomposition import PCA, TruncatedSVD\n",
        "import matplotlib.patches as mpatches\n",
        "import time"
      ]
    },
    {
      "cell_type": "code",
      "execution_count": 6,
      "metadata": {
        "id": "SHDDr-rea5AM"
      },
      "outputs": [],
      "source": [
        "# loading our training and testing datasets\n",
        "path = 'german_data_credit_cat.csv'\n",
        "credit_data=pd.read_csv(path)"
      ]
    },
    {
      "cell_type": "code",
      "execution_count": 7,
      "metadata": {
        "id": "ntfMs7rl5k-4",
        "scrolled": true
      },
      "outputs": [],
      "source": [
        "#credit_data.head()"
      ]
    },
    {
      "cell_type": "code",
      "execution_count": 8,
      "metadata": {
        "id": "UCOZJJGJKuR4"
      },
      "outputs": [],
      "source": [
        "#credit_data.info()"
      ]
    },
    {
      "cell_type": "code",
      "execution_count": 9,
      "metadata": {
        "id": "1JMHd165Kxon",
        "colab": {
          "base_uri": "https://localhost:8080/",
          "height": 300
        },
        "outputId": "8461a367-676a-4950-e05e-30b9781d0373"
      },
      "outputs": [
        {
          "output_type": "execute_result",
          "data": {
            "text/plain": [
              "                                                     count      mean  \\\n",
              "Duration in month                                   1000.0    20.903   \n",
              "Credit amount                                       1000.0  3271.258   \n",
              "Installment rate in percentage of disposable in...  1000.0     2.973   \n",
              "Present residence since                             1000.0     2.845   \n",
              "Age in years                                        1000.0    35.546   \n",
              "Number of existing credits at this bank             1000.0     1.407   \n",
              "Number of people being liable to provide mainte...  1000.0     1.155   \n",
              "Cost_MatrixRisk                                     1000.0     0.700   \n",
              "\n",
              "                                                            std    min  \\\n",
              "Duration in month                                     12.058814    4.0   \n",
              "Credit amount                                       2822.736876  250.0   \n",
              "Installment rate in percentage of disposable in...     1.118715    1.0   \n",
              "Present residence since                                1.103718    1.0   \n",
              "Age in years                                          11.375469   19.0   \n",
              "Number of existing credits at this bank                0.577654    1.0   \n",
              "Number of people being liable to provide mainte...     0.362086    1.0   \n",
              "Cost_MatrixRisk                                        0.458487    0.0   \n",
              "\n",
              "                                                       25%     50%      75%  \\\n",
              "Duration in month                                     12.0    18.0    24.00   \n",
              "Credit amount                                       1365.5  2319.5  3972.25   \n",
              "Installment rate in percentage of disposable in...     2.0     3.0     4.00   \n",
              "Present residence since                                2.0     3.0     4.00   \n",
              "Age in years                                          27.0    33.0    42.00   \n",
              "Number of existing credits at this bank                1.0     1.0     2.00   \n",
              "Number of people being liable to provide mainte...     1.0     1.0     1.00   \n",
              "Cost_MatrixRisk                                        0.0     1.0     1.00   \n",
              "\n",
              "                                                        max  \n",
              "Duration in month                                      72.0  \n",
              "Credit amount                                       18424.0  \n",
              "Installment rate in percentage of disposable in...      4.0  \n",
              "Present residence since                                 4.0  \n",
              "Age in years                                           75.0  \n",
              "Number of existing credits at this bank                 4.0  \n",
              "Number of people being liable to provide mainte...      2.0  \n",
              "Cost_MatrixRisk                                         1.0  "
            ],
            "text/html": [
              "\n",
              "  <div id=\"df-85d44792-6248-4d4b-bbff-9411577cf4e8\">\n",
              "    <div class=\"colab-df-container\">\n",
              "      <div>\n",
              "<style scoped>\n",
              "    .dataframe tbody tr th:only-of-type {\n",
              "        vertical-align: middle;\n",
              "    }\n",
              "\n",
              "    .dataframe tbody tr th {\n",
              "        vertical-align: top;\n",
              "    }\n",
              "\n",
              "    .dataframe thead th {\n",
              "        text-align: right;\n",
              "    }\n",
              "</style>\n",
              "<table border=\"1\" class=\"dataframe\">\n",
              "  <thead>\n",
              "    <tr style=\"text-align: right;\">\n",
              "      <th></th>\n",
              "      <th>count</th>\n",
              "      <th>mean</th>\n",
              "      <th>std</th>\n",
              "      <th>min</th>\n",
              "      <th>25%</th>\n",
              "      <th>50%</th>\n",
              "      <th>75%</th>\n",
              "      <th>max</th>\n",
              "    </tr>\n",
              "  </thead>\n",
              "  <tbody>\n",
              "    <tr>\n",
              "      <th>Duration in month</th>\n",
              "      <td>1000.0</td>\n",
              "      <td>20.903</td>\n",
              "      <td>12.058814</td>\n",
              "      <td>4.0</td>\n",
              "      <td>12.0</td>\n",
              "      <td>18.0</td>\n",
              "      <td>24.00</td>\n",
              "      <td>72.0</td>\n",
              "    </tr>\n",
              "    <tr>\n",
              "      <th>Credit amount</th>\n",
              "      <td>1000.0</td>\n",
              "      <td>3271.258</td>\n",
              "      <td>2822.736876</td>\n",
              "      <td>250.0</td>\n",
              "      <td>1365.5</td>\n",
              "      <td>2319.5</td>\n",
              "      <td>3972.25</td>\n",
              "      <td>18424.0</td>\n",
              "    </tr>\n",
              "    <tr>\n",
              "      <th>Installment rate in percentage of disposable income</th>\n",
              "      <td>1000.0</td>\n",
              "      <td>2.973</td>\n",
              "      <td>1.118715</td>\n",
              "      <td>1.0</td>\n",
              "      <td>2.0</td>\n",
              "      <td>3.0</td>\n",
              "      <td>4.00</td>\n",
              "      <td>4.0</td>\n",
              "    </tr>\n",
              "    <tr>\n",
              "      <th>Present residence since</th>\n",
              "      <td>1000.0</td>\n",
              "      <td>2.845</td>\n",
              "      <td>1.103718</td>\n",
              "      <td>1.0</td>\n",
              "      <td>2.0</td>\n",
              "      <td>3.0</td>\n",
              "      <td>4.00</td>\n",
              "      <td>4.0</td>\n",
              "    </tr>\n",
              "    <tr>\n",
              "      <th>Age in years</th>\n",
              "      <td>1000.0</td>\n",
              "      <td>35.546</td>\n",
              "      <td>11.375469</td>\n",
              "      <td>19.0</td>\n",
              "      <td>27.0</td>\n",
              "      <td>33.0</td>\n",
              "      <td>42.00</td>\n",
              "      <td>75.0</td>\n",
              "    </tr>\n",
              "    <tr>\n",
              "      <th>Number of existing credits at this bank</th>\n",
              "      <td>1000.0</td>\n",
              "      <td>1.407</td>\n",
              "      <td>0.577654</td>\n",
              "      <td>1.0</td>\n",
              "      <td>1.0</td>\n",
              "      <td>1.0</td>\n",
              "      <td>2.00</td>\n",
              "      <td>4.0</td>\n",
              "    </tr>\n",
              "    <tr>\n",
              "      <th>Number of people being liable to provide maintenance for</th>\n",
              "      <td>1000.0</td>\n",
              "      <td>1.155</td>\n",
              "      <td>0.362086</td>\n",
              "      <td>1.0</td>\n",
              "      <td>1.0</td>\n",
              "      <td>1.0</td>\n",
              "      <td>1.00</td>\n",
              "      <td>2.0</td>\n",
              "    </tr>\n",
              "    <tr>\n",
              "      <th>Cost_MatrixRisk</th>\n",
              "      <td>1000.0</td>\n",
              "      <td>0.700</td>\n",
              "      <td>0.458487</td>\n",
              "      <td>0.0</td>\n",
              "      <td>0.0</td>\n",
              "      <td>1.0</td>\n",
              "      <td>1.00</td>\n",
              "      <td>1.0</td>\n",
              "    </tr>\n",
              "  </tbody>\n",
              "</table>\n",
              "</div>\n",
              "      <button class=\"colab-df-convert\" onclick=\"convertToInteractive('df-85d44792-6248-4d4b-bbff-9411577cf4e8')\"\n",
              "              title=\"Convert this dataframe to an interactive table.\"\n",
              "              style=\"display:none;\">\n",
              "        \n",
              "  <svg xmlns=\"http://www.w3.org/2000/svg\" height=\"24px\"viewBox=\"0 0 24 24\"\n",
              "       width=\"24px\">\n",
              "    <path d=\"M0 0h24v24H0V0z\" fill=\"none\"/>\n",
              "    <path d=\"M18.56 5.44l.94 2.06.94-2.06 2.06-.94-2.06-.94-.94-2.06-.94 2.06-2.06.94zm-11 1L8.5 8.5l.94-2.06 2.06-.94-2.06-.94L8.5 2.5l-.94 2.06-2.06.94zm10 10l.94 2.06.94-2.06 2.06-.94-2.06-.94-.94-2.06-.94 2.06-2.06.94z\"/><path d=\"M17.41 7.96l-1.37-1.37c-.4-.4-.92-.59-1.43-.59-.52 0-1.04.2-1.43.59L10.3 9.45l-7.72 7.72c-.78.78-.78 2.05 0 2.83L4 21.41c.39.39.9.59 1.41.59.51 0 1.02-.2 1.41-.59l7.78-7.78 2.81-2.81c.8-.78.8-2.07 0-2.86zM5.41 20L4 18.59l7.72-7.72 1.47 1.35L5.41 20z\"/>\n",
              "  </svg>\n",
              "      </button>\n",
              "      \n",
              "  <style>\n",
              "    .colab-df-container {\n",
              "      display:flex;\n",
              "      flex-wrap:wrap;\n",
              "      gap: 12px;\n",
              "    }\n",
              "\n",
              "    .colab-df-convert {\n",
              "      background-color: #E8F0FE;\n",
              "      border: none;\n",
              "      border-radius: 50%;\n",
              "      cursor: pointer;\n",
              "      display: none;\n",
              "      fill: #1967D2;\n",
              "      height: 32px;\n",
              "      padding: 0 0 0 0;\n",
              "      width: 32px;\n",
              "    }\n",
              "\n",
              "    .colab-df-convert:hover {\n",
              "      background-color: #E2EBFA;\n",
              "      box-shadow: 0px 1px 2px rgba(60, 64, 67, 0.3), 0px 1px 3px 1px rgba(60, 64, 67, 0.15);\n",
              "      fill: #174EA6;\n",
              "    }\n",
              "\n",
              "    [theme=dark] .colab-df-convert {\n",
              "      background-color: #3B4455;\n",
              "      fill: #D2E3FC;\n",
              "    }\n",
              "\n",
              "    [theme=dark] .colab-df-convert:hover {\n",
              "      background-color: #434B5C;\n",
              "      box-shadow: 0px 1px 3px 1px rgba(0, 0, 0, 0.15);\n",
              "      filter: drop-shadow(0px 1px 2px rgba(0, 0, 0, 0.3));\n",
              "      fill: #FFFFFF;\n",
              "    }\n",
              "  </style>\n",
              "\n",
              "      <script>\n",
              "        const buttonEl =\n",
              "          document.querySelector('#df-85d44792-6248-4d4b-bbff-9411577cf4e8 button.colab-df-convert');\n",
              "        buttonEl.style.display =\n",
              "          google.colab.kernel.accessAllowed ? 'block' : 'none';\n",
              "\n",
              "        async function convertToInteractive(key) {\n",
              "          const element = document.querySelector('#df-85d44792-6248-4d4b-bbff-9411577cf4e8');\n",
              "          const dataTable =\n",
              "            await google.colab.kernel.invokeFunction('convertToInteractive',\n",
              "                                                     [key], {});\n",
              "          if (!dataTable) return;\n",
              "\n",
              "          const docLinkHtml = 'Like what you see? Visit the ' +\n",
              "            '<a target=\"_blank\" href=https://colab.research.google.com/notebooks/data_table.ipynb>data table notebook</a>'\n",
              "            + ' to learn more about interactive tables.';\n",
              "          element.innerHTML = '';\n",
              "          dataTable['output_type'] = 'display_data';\n",
              "          await google.colab.output.renderOutput(dataTable, element);\n",
              "          const docLink = document.createElement('div');\n",
              "          docLink.innerHTML = docLinkHtml;\n",
              "          element.appendChild(docLink);\n",
              "        }\n",
              "      </script>\n",
              "    </div>\n",
              "  </div>\n",
              "  "
            ]
          },
          "metadata": {},
          "execution_count": 9
        }
      ],
      "source": [
        "credit_data.describe().T"
      ]
    },
    {
      "cell_type": "code",
      "execution_count": 10,
      "metadata": {
        "id": "IFHdHOkkdK15",
        "colab": {
          "base_uri": "https://localhost:8080/"
        },
        "outputId": "ea8ef8f5-d527-4934-dd09-9f1f8783c685"
      },
      "outputs": [
        {
          "output_type": "stream",
          "name": "stdout",
          "text": [
            "credit_data:  (1000, 21)\n"
          ]
        }
      ],
      "source": [
        "# getting the sizes of the dataset\n",
        "print(\"credit_data: \", credit_data.shape)"
      ]
    },
    {
      "cell_type": "markdown",
      "metadata": {
        "id": "xJxfC_lhOcjc"
      },
      "source": [
        "\n",
        "\n",
        "\n",
        "## EDA - Exploratory Data Analysis\n"
      ]
    },
    {
      "cell_type": "code",
      "execution_count": 11,
      "metadata": {
        "id": "5Ogql3dEihB0"
      },
      "outputs": [],
      "source": [
        "# creating helper functions\n",
        "class DataProcess:\n",
        "    def __init__(self, df):\n",
        "        self.df = df\n",
        "        \n",
        "    def Numerical(df):\n",
        "        return df.select_dtypes(include=['int64', 'float64'])\n",
        "        \n",
        "    def Categorical(df):\n",
        "        return df.select_dtypes(include=['object'])\n",
        "        \n",
        "    def Missing(df):\n",
        "        return sns.heatmap(df.isnull(), cbar=False, cmap='viridis'); \n",
        "  \n",
        "    \n",
        "    def correlation_map(df):\n",
        "        # Create figure and axes and set figure size\n",
        "        f, ax = plt.subplots(figsize=(20,10))\n",
        "        return sns.heatmap(data=df.corr(), annot=False);"
      ]
    },
    {
      "cell_type": "code",
      "execution_count": 12,
      "metadata": {
        "id": "nATEa0HP9sUJ"
      },
      "outputs": [],
      "source": [
        "# getting numerical and categorical features\n",
        "categorical_feat = DataProcess.Categorical(credit_data)\n",
        "numerical_feat = DataProcess.Numerical(credit_data)"
      ]
    },
    {
      "cell_type": "code",
      "execution_count": 13,
      "metadata": {
        "id": "DfURFiBxoOpK",
        "colab": {
          "base_uri": "https://localhost:8080/"
        },
        "outputId": "28e80871-eb36-4c38-d45e-a62bc948d7eb"
      },
      "outputs": [
        {
          "output_type": "execute_result",
          "data": {
            "text/plain": [
              "Status of existing checking account                         0\n",
              "Duration in month                                           0\n",
              "Credit history                                              2\n",
              "Purpose                                                     0\n",
              "Credit amount                                               0\n",
              "Savings account/bonds                                       0\n",
              "Present employment since                                    0\n",
              "Installment rate in percentage of disposable income         0\n",
              "Personal status and sex                                     0\n",
              "Other debtors / guarantors                                  0\n",
              "Present residence since                                     0\n",
              "Property                                                    0\n",
              "Age in years                                                0\n",
              "Other installment plans                                     0\n",
              "Housing                                                     0\n",
              "Number of existing credits at this bank                     0\n",
              "Job                                                         0\n",
              "Number of people being liable to provide maintenance for    0\n",
              "Telephone                                                   0\n",
              "foreign worker                                              0\n",
              "Cost_MatrixRisk                                             0\n",
              "dtype: int64"
            ]
          },
          "metadata": {},
          "execution_count": 13
        }
      ],
      "source": [
        "#Checking the null values\n",
        "credit_data.isnull().sum()"
      ]
    },
    {
      "cell_type": "code",
      "execution_count": 14,
      "metadata": {
        "id": "gyDpbr__99el",
        "colab": {
          "base_uri": "https://localhost:8080/",
          "height": 484
        },
        "outputId": "b5d7df82-0a5c-44ac-eb21-344abac83b98"
      },
      "outputs": [
        {
          "output_type": "execute_result",
          "data": {
            "text/plain": [
              "Text(0.5, 1.0, 'heatmap for categorical features \\n')"
            ]
          },
          "metadata": {},
          "execution_count": 14
        },
        {
          "output_type": "display_data",
          "data": {
            "text/plain": [
              "<Figure size 432x288 with 1 Axes>"
            ],
            "image/png": "[encoded data removed]"
          },
          "metadata": {
            "needs_background": "light"
          }
        }
      ],
      "source": [
        "# plotting a heatmap for categorical features with missing values\n",
        "DataProcess.Missing(categorical_feat);\n",
        "plt.title('heatmap for categorical features \\n', fontsize=14)"
      ]
    },
    {
      "cell_type": "code",
      "execution_count": 15,
      "metadata": {
        "id": "XZ0k_LhR-Jui",
        "colab": {
          "base_uri": "https://localhost:8080/",
          "height": 595
        },
        "outputId": "992cf4c1-ab8c-454c-c788-4a31a8b7a8d8"
      },
      "outputs": [
        {
          "output_type": "execute_result",
          "data": {
            "text/plain": [
              "Text(0.5, 1.0, 'heatmap for categorical features \\n')"
            ]
          },
          "metadata": {},
          "execution_count": 15
        },
        {
          "output_type": "display_data",
          "data": {
            "text/plain": [
              "<Figure size 432x288 with 1 Axes>"
            ],
            "image/png": "[encoded data removed]"
          },
          "metadata": {
            "needs_background": "light"
          }
        }
      ],
      "source": [
        "# plotting a heatmap for numerical features with missing values\n",
        "DataProcess.Missing(numerical_feat);\n",
        "plt.title('heatmap for categorical features \\n', fontsize=14)"
      ]
    },
    {
      "cell_type": "code",
      "execution_count": 16,
      "metadata": {
        "id": "k0-bMTGW-XbQ",
        "colab": {
          "base_uri": "https://localhost:8080/",
          "height": 421
        },
        "outputId": "145f6d7b-e635-45d2-dab1-69ecde8c7146"
      },
      "outputs": [
        {
          "output_type": "stream",
          "name": "stdout",
          "text": [
            "Null values State:  False\n"
          ]
        },
        {
          "output_type": "execute_result",
          "data": {
            "text/plain": [
              "  Status of existing checking account  Duration in month Credit history  \\\n",
              "0                                 A11                  6            A34   \n",
              "1                                 A12                 48            A32   \n",
              "2                                 A14                 12            A34   \n",
              "3                                 A11                 42            A32   \n",
              "4                                 A11                 24            A33   \n",
              "\n",
              "  Purpose  Credit amount Savings account/bonds Present employment since  \\\n",
              "0     A43           1169                   A65                      A75   \n",
              "1     A43           5951                   A61                      A73   \n",
              "2     A46           2096                   A61                      A74   \n",
              "3     A42           7882                   A61                      A74   \n",
              "4     A40           4870                   A61                      A73   \n",
              "\n",
              "   Installment rate in percentage of disposable income  \\\n",
              "0                                                  4     \n",
              "1                                                  2     \n",
              "2                                                  2     \n",
              "3                                                  2     \n",
              "4                                                  3     \n",
              "\n",
              "  Personal status and sex Other debtors / guarantors  ...  Property  \\\n",
              "0                     A93                       A101  ...      A121   \n",
              "1                     A92                       A101  ...      A121   \n",
              "2                     A93                       A101  ...      A121   \n",
              "3                     A93                       A103  ...      A122   \n",
              "4                     A93                       A101  ...      A124   \n",
              "\n",
              "  Age in years  Other installment plans Housing  \\\n",
              "0           67                     A143    A152   \n",
              "1           22                     A143    A152   \n",
              "2           49                     A143    A152   \n",
              "3           45                     A143    A153   \n",
              "4           53                     A143    A153   \n",
              "\n",
              "  Number of existing credits at this bank   Job  \\\n",
              "0                                       2  A173   \n",
              "1                                       1  A173   \n",
              "2                                       1  A172   \n",
              "3                                       1  A173   \n",
              "4                                       2  A173   \n",
              "\n",
              "  Number of people being liable to provide maintenance for  Telephone  \\\n",
              "0                                                  1             A192   \n",
              "1                                                  1             A191   \n",
              "2                                                  2             A191   \n",
              "3                                                  2             A191   \n",
              "4                                                  2             A191   \n",
              "\n",
              "  foreign worker Cost_MatrixRisk  \n",
              "0           A201               1  \n",
              "1           A201               0  \n",
              "2           A201               1  \n",
              "3           A201               1  \n",
              "4           A201               0  \n",
              "\n",
              "[5 rows x 21 columns]"
            ],
            "text/html": [
              "\n",
              "  <div id=\"df-ce83f460-3390-434c-ac03-639f19e65103\">\n",
              "    <div class=\"colab-df-container\">\n",
              "      <div>\n",
              "<style scoped>\n",
              "    .dataframe tbody tr th:only-of-type {\n",
              "        vertical-align: middle;\n",
              "    }\n",
              "\n",
              "    .dataframe tbody tr th {\n",
              "        vertical-align: top;\n",
              "    }\n",
              "\n",
              "    .dataframe thead th {\n",
              "        text-align: right;\n",
              "    }\n",
              "</style>\n",
              "<table border=\"1\" class=\"dataframe\">\n",
              "  <thead>\n",
              "    <tr style=\"text-align: right;\">\n",
              "      <th></th>\n",
              "      <th>Status of existing checking account</th>\n",
              "      <th>Duration in month</th>\n",
              "      <th>Credit history</th>\n",
              "      <th>Purpose</th>\n",
              "      <th>Credit amount</th>\n",
              "      <th>Savings account/bonds</th>\n",
              "      <th>Present employment since</th>\n",
              "      <th>Installment rate in percentage of disposable income</th>\n",
              "      <th>Personal status and sex</th>\n",
              "      <th>Other debtors / guarantors</th>\n",
              "      <th>...</th>\n",
              "      <th>Property</th>\n",
              "      <th>Age in years</th>\n",
              "      <th>Other installment plans</th>\n",
              "      <th>Housing</th>\n",
              "      <th>Number of existing credits at this bank</th>\n",
              "      <th>Job</th>\n",
              "      <th>Number of people being liable to provide maintenance for</th>\n",
              "      <th>Telephone</th>\n",
              "      <th>foreign worker</th>\n",
              "      <th>Cost_MatrixRisk</th>\n",
              "    </tr>\n",
              "  </thead>\n",
              "  <tbody>\n",
              "    <tr>\n",
              "      <th>0</th>\n",
              "      <td>A11</td>\n",
              "      <td>6</td>\n",
              "      <td>A34</td>\n",
              "      <td>A43</td>\n",
              "      <td>1169</td>\n",
              "      <td>A65</td>\n",
              "      <td>A75</td>\n",
              "      <td>4</td>\n",
              "      <td>A93</td>\n",
              "      <td>A101</td>\n",
              "      <td>...</td>\n",
              "      <td>A121</td>\n",
              "      <td>67</td>\n",
              "      <td>A143</td>\n",
              "      <td>A152</td>\n",
              "      <td>2</td>\n",
              "      <td>A173</td>\n",
              "      <td>1</td>\n",
              "      <td>A192</td>\n",
              "      <td>A201</td>\n",
              "      <td>1</td>\n",
              "    </tr>\n",
              "    <tr>\n",
              "      <th>1</th>\n",
              "      <td>A12</td>\n",
              "      <td>48</td>\n",
              "      <td>A32</td>\n",
              "      <td>A43</td>\n",
              "      <td>5951</td>\n",
              "      <td>A61</td>\n",
              "      <td>A73</td>\n",
              "      <td>2</td>\n",
              "      <td>A92</td>\n",
              "      <td>A101</td>\n",
              "      <td>...</td>\n",
              "      <td>A121</td>\n",
              "      <td>22</td>\n",
              "      <td>A143</td>\n",
              "      <td>A152</td>\n",
              "      <td>1</td>\n",
              "      <td>A173</td>\n",
              "      <td>1</td>\n",
              "      <td>A191</td>\n",
              "      <td>A201</td>\n",
              "      <td>0</td>\n",
              "    </tr>\n",
              "    <tr>\n",
              "      <th>2</th>\n",
              "      <td>A14</td>\n",
              "      <td>12</td>\n",
              "      <td>A34</td>\n",
              "      <td>A46</td>\n",
              "      <td>2096</td>\n",
              "      <td>A61</td>\n",
              "      <td>A74</td>\n",
              "      <td>2</td>\n",
              "      <td>A93</td>\n",
              "      <td>A101</td>\n",
              "      <td>...</td>\n",
              "      <td>A121</td>\n",
              "      <td>49</td>\n",
              "      <td>A143</td>\n",
              "      <td>A152</td>\n",
              "      <td>1</td>\n",
              "      <td>A172</td>\n",
              "      <td>2</td>\n",
              "      <td>A191</td>\n",
              "      <td>A201</td>\n",
              "      <td>1</td>\n",
              "    </tr>\n",
              "    <tr>\n",
              "      <th>3</th>\n",
              "      <td>A11</td>\n",
              "      <td>42</td>\n",
              "      <td>A32</td>\n",
              "      <td>A42</td>\n",
              "      <td>7882</td>\n",
              "      <td>A61</td>\n",
              "      <td>A74</td>\n",
              "      <td>2</td>\n",
              "      <td>A93</td>\n",
              "      <td>A103</td>\n",
              "      <td>...</td>\n",
              "      <td>A122</td>\n",
              "      <td>45</td>\n",
              "      <td>A143</td>\n",
              "      <td>A153</td>\n",
              "      <td>1</td>\n",
              "      <td>A173</td>\n",
              "      <td>2</td>\n",
              "      <td>A191</td>\n",
              "      <td>A201</td>\n",
              "      <td>1</td>\n",
              "    </tr>\n",
              "    <tr>\n",
              "      <th>4</th>\n",
              "      <td>A11</td>\n",
              "      <td>24</td>\n",
              "      <td>A33</td>\n",
              "      <td>A40</td>\n",
              "      <td>4870</td>\n",
              "      <td>A61</td>\n",
              "      <td>A73</td>\n",
              "      <td>3</td>\n",
              "      <td>A93</td>\n",
              "      <td>A101</td>\n",
              "      <td>...</td>\n",
              "      <td>A124</td>\n",
              "      <td>53</td>\n",
              "      <td>A143</td>\n",
              "      <td>A153</td>\n",
              "      <td>2</td>\n",
              "      <td>A173</td>\n",
              "      <td>2</td>\n",
              "      <td>A191</td>\n",
              "      <td>A201</td>\n",
              "      <td>0</td>\n",
              "    </tr>\n",
              "  </tbody>\n",
              "</table>\n",
              "<p>5 rows × 21 columns</p>\n",
              "</div>\n",
              "      <button class=\"colab-df-convert\" onclick=\"convertToInteractive('df-ce83f460-3390-434c-ac03-639f19e65103')\"\n",
              "              title=\"Convert this dataframe to an interactive table.\"\n",
              "              style=\"display:none;\">\n",
              "        \n",
              "  <svg xmlns=\"http://www.w3.org/2000/svg\" height=\"24px\"viewBox=\"0 0 24 24\"\n",
              "       width=\"24px\">\n",
              "    <path d=\"M0 0h24v24H0V0z\" fill=\"none\"/>\n",
              "    <path d=\"M18.56 5.44l.94 2.06.94-2.06 2.06-.94-2.06-.94-.94-2.06-.94 2.06-2.06.94zm-11 1L8.5 8.5l.94-2.06 2.06-.94-2.06-.94L8.5 2.5l-.94 2.06-2.06.94zm10 10l.94 2.06.94-2.06 2.06-.94-2.06-.94-.94-2.06-.94 2.06-2.06.94z\"/><path d=\"M17.41 7.96l-1.37-1.37c-.4-.4-.92-.59-1.43-.59-.52 0-1.04.2-1.43.59L10.3 9.45l-7.72 7.72c-.78.78-.78 2.05 0 2.83L4 21.41c.39.39.9.59 1.41.59.51 0 1.02-.2 1.41-.59l7.78-7.78 2.81-2.81c.8-.78.8-2.07 0-2.86zM5.41 20L4 18.59l7.72-7.72 1.47 1.35L5.41 20z\"/>\n",
              "  </svg>\n",
              "      </button>\n",
              "      \n",
              "  <style>\n",
              "    .colab-df-container {\n",
              "      display:flex;\n",
              "      flex-wrap:wrap;\n",
              "      gap: 12px;\n",
              "    }\n",
              "\n",
              "    .colab-df-convert {\n",
              "      background-color: #E8F0FE;\n",
              "      border: none;\n",
              "      border-radius: 50%;\n",
              "      cursor: pointer;\n",
              "      display: none;\n",
              "      fill: #1967D2;\n",
              "      height: 32px;\n",
              "      padding: 0 0 0 0;\n",
              "      width: 32px;\n",
              "    }\n",
              "\n",
              "    .colab-df-convert:hover {\n",
              "      background-color: #E2EBFA;\n",
              "      box-shadow: 0px 1px 2px rgba(60, 64, 67, 0.3), 0px 1px 3px 1px rgba(60, 64, 67, 0.15);\n",
              "      fill: #174EA6;\n",
              "    }\n",
              "\n",
              "    [theme=dark] .colab-df-convert {\n",
              "      background-color: #3B4455;\n",
              "      fill: #D2E3FC;\n",
              "    }\n",
              "\n",
              "    [theme=dark] .colab-df-convert:hover {\n",
              "      background-color: #434B5C;\n",
              "      box-shadow: 0px 1px 3px 1px rgba(0, 0, 0, 0.15);\n",
              "      filter: drop-shadow(0px 1px 2px rgba(0, 0, 0, 0.3));\n",
              "      fill: #FFFFFF;\n",
              "    }\n",
              "  </style>\n",
              "\n",
              "      <script>\n",
              "        const buttonEl =\n",
              "          document.querySelector('#df-ce83f460-3390-434c-ac03-639f19e65103 button.colab-df-convert');\n",
              "        buttonEl.style.display =\n",
              "          google.colab.kernel.accessAllowed ? 'block' : 'none';\n",
              "\n",
              "        async function convertToInteractive(key) {\n",
              "          const element = document.querySelector('#df-ce83f460-3390-434c-ac03-639f19e65103');\n",
              "          const dataTable =\n",
              "            await google.colab.kernel.invokeFunction('convertToInteractive',\n",
              "                                                     [key], {});\n",
              "          if (!dataTable) return;\n",
              "\n",
              "          const docLinkHtml = 'Like what you see? Visit the ' +\n",
              "            '<a target=\"_blank\" href=https://colab.research.google.com/notebooks/data_table.ipynb>data table notebook</a>'\n",
              "            + ' to learn more about interactive tables.';\n",
              "          element.innerHTML = '';\n",
              "          dataTable['output_type'] = 'display_data';\n",
              "          await google.colab.output.renderOutput(dataTable, element);\n",
              "          const docLink = document.createElement('div');\n",
              "          docLink.innerHTML = docLinkHtml;\n",
              "          element.appendChild(docLink);\n",
              "        }\n",
              "      </script>\n",
              "    </div>\n",
              "  </div>\n",
              "  "
            ]
          },
          "metadata": {},
          "execution_count": 16
        }
      ],
      "source": [
        "# dropping null values\n",
        "credit_data = credit_data.dropna()\n",
        "print(\"Null values State: \", credit_data.isna().sum().any())\n",
        "credit_data.head()"
      ]
    },
    {
      "cell_type": "code",
      "execution_count": 17,
      "metadata": {
        "id": "_DLLDYszPJ84",
        "colab": {
          "base_uri": "https://localhost:8080/"
        },
        "outputId": "9cea7848-800c-4956-e4c7-ea747c4d0b5a"
      },
      "outputs": [
        {
          "output_type": "execute_result",
          "data": {
            "text/plain": [
              "1    698\n",
              "0    300\n",
              "Name: Cost_MatrixRisk, dtype: int64"
            ]
          },
          "metadata": {},
          "execution_count": 17
        }
      ],
      "source": [
        "# class distribution of target\n",
        "credit_data['Cost_MatrixRisk'].value_counts()"
      ]
    },
    {
      "cell_type": "code",
      "execution_count": 18,
      "metadata": {
        "id": "44y9eJQ3oOpL",
        "colab": {
          "base_uri": "https://localhost:8080/"
        },
        "outputId": "3cec4482-4ce7-41d2-b20a-6e0034d3df52"
      },
      "outputs": [
        {
          "output_type": "stream",
          "name": "stdout",
          "text": [
            "Non-frauds 69.94 % of the dataset\n",
            "Frauds 30.06 % of the dataset\n"
          ]
        }
      ],
      "source": [
        "# The classes are heavily skewed we need to solve this issue later.\n",
        "print('Non-frauds', round(credit_data['Cost_MatrixRisk'].value_counts()[1]/len(credit_data) * 100,2), '% of the dataset')\n",
        "print('Frauds', round(credit_data['Cost_MatrixRisk'].value_counts()[0]/len(credit_data) * 100,2), '% of the dataset')"
      ]
    },
    {
      "cell_type": "code",
      "execution_count": 19,
      "metadata": {
        "id": "o-JGifADoOpM",
        "colab": {
          "base_uri": "https://localhost:8080/",
          "height": 330
        },
        "outputId": "a749aff3-e45e-41f7-ad92-b6b01969ed1d"
      },
      "outputs": [
        {
          "output_type": "execute_result",
          "data": {
            "text/plain": [
              "Text(0.5, 1.0, 'Class Distributions \\n (Cost Risks 0 : Frauds || Cost Risks 1 : No Frauds)')"
            ]
          },
          "metadata": {},
          "execution_count": 19
        },
        {
          "output_type": "display_data",
          "data": {
            "text/plain": [
              "<Figure size 432x288 with 1 Axes>"
            ],
            "image/png": "[encoded data removed]"
          },
          "metadata": {
            "needs_background": "light"
          }
        }
      ],
      "source": [
        "colors = [\"#0101DF\", \"#DF0101\"]\n",
        "\n",
        "sns.countplot('Cost_MatrixRisk', data=credit_data, palette=colors)\n",
        "plt.title('Class Distributions \\n (Cost Risks 0 : Frauds || Cost Risks 1 : No Frauds)', fontsize=14)"
      ]
    },
    {
      "cell_type": "code",
      "execution_count": 20,
      "metadata": {
        "id": "9gnPn0XLof4P",
        "colab": {
          "base_uri": "https://localhost:8080/",
          "height": 318
        },
        "outputId": "d9a9b6af-40e1-448b-9dcb-1504b604284d"
      },
      "outputs": [
        {
          "output_type": "execute_result",
          "data": {
            "text/plain": [
              "Text(0.5, 1.0, 'Class Distributions \\n')"
            ]
          },
          "metadata": {},
          "execution_count": 20
        },
        {
          "output_type": "display_data",
          "data": {
            "text/plain": [
              "<Figure size 432x288 with 1 Axes>"
            ],
            "image/png": "[encoded data removed]"
          },
          "metadata": {
            "needs_background": "light"
          }
        }
      ],
      "source": [
        "# plotting the distribution for our numerical features\n",
        "sns.distplot(numerical_feat)\n",
        "plt.title('Class Distributions \\n', fontsize=15)"
      ]
    },
    {
      "cell_type": "code",
      "execution_count": 21,
      "metadata": {
        "id": "ynD85eThfhfn",
        "colab": {
          "base_uri": "https://localhost:8080/"
        },
        "outputId": "46148957-84d5-46ca-a71c-7826b6478afe"
      },
      "outputs": [
        {
          "output_type": "stream",
          "name": "stdout",
          "text": [
            "\n",
            "Skew in numerical features: \n",
            "\n",
            "There are 8 skewed numerical features to Box Cox transform\n"
          ]
        }
      ],
      "source": [
        "# checking the distribution of our numerical features\n",
        "from scipy.stats import skew\n",
        "\n",
        "def skewness_df(df):\n",
        "  numeric_feats = df.dtypes[df.dtypes != \"object\"].index\n",
        "  # Check the skew of all numerical features\n",
        "  skewed_feats = df[numeric_feats].apply(lambda x: skew(x.dropna())).sort_values(ascending=False)\n",
        "  print(\"\\nSkew in numerical features: \\n\")\n",
        "  skewness = pd.DataFrame({'Skew' :skewed_feats})\n",
        "  skewnessgreat = skewness[abs(skewness) > 0.75]\n",
        "  print(\"There are {} skewed numerical features to Box Cox transform\".format(skewnessgreat.shape[0]))\n",
        "  return skewed_feats, skewness, skewnessgreat\n",
        "\n",
        "skewed_feats, skewness, skewnessgreat = skewness_df(credit_data)"
      ]
    },
    {
      "cell_type": "code",
      "execution_count": 22,
      "metadata": {
        "id": "IoxZsfXnnnQi",
        "colab": {
          "base_uri": "https://localhost:8080/"
        },
        "outputId": "fac26e20-efb2-4975-a3f8-ee0772ed8919"
      },
      "outputs": [
        {
          "output_type": "execute_result",
          "data": {
            "text/plain": [
              "Credit amount                                               1.945021\n",
              "Number of people being liable to provide maintenance for    1.903307\n",
              "Number of existing credits at this bank                     1.267759\n",
              "Duration in month                                           1.093818\n",
              "Age in years                                                1.016780\n",
              "Present residence since                                    -0.273568\n",
              "Installment rate in percentage of disposable income        -0.527398\n",
              "Cost_MatrixRisk                                            -0.869751\n",
              "dtype: float64"
            ]
          },
          "metadata": {},
          "execution_count": 22
        }
      ],
      "source": [
        "# checking features with skewness\n",
        "skewed_feats"
      ]
    },
    {
      "cell_type": "code",
      "execution_count": 23,
      "metadata": {
        "id": "_RBB6wzPoOpP",
        "colab": {
          "base_uri": "https://localhost:8080/",
          "height": 387
        },
        "outputId": "f4e05fc3-a501-4db6-8d3a-77f492f254e0"
      },
      "outputs": [
        {
          "output_type": "execute_result",
          "data": {
            "text/plain": [
              "<pandas.io.formats.style.Styler at 0x7f66235a5950>"
            ],
            "text/html": [
              "<style type=\"text/css\">\n",
              "#T_52e86_row0_col0, #T_52e86_row1_col1, #T_52e86_row2_col2, #T_52e86_row3_col3, #T_52e86_row4_col4, #T_52e86_row5_col5, #T_52e86_row6_col6, #T_52e86_row7_col7 {\n",
              "  background-color: #b40426;\n",
              "  color: #f1f1f1;\n",
              "}\n",
              "#T_52e86_row0_col1 {\n",
              "  background-color: #f7aa8c;\n",
              "  color: #000000;\n",
              "}\n",
              "#T_52e86_row0_col2 {\n",
              "  background-color: #94b6ff;\n",
              "  color: #000000;\n",
              "}\n",
              "#T_52e86_row0_col3 {\n",
              "  background-color: #455cce;\n",
              "  color: #f1f1f1;\n",
              "}\n",
              "#T_52e86_row0_col4, #T_52e86_row0_col5, #T_52e86_row0_col7, #T_52e86_row1_col2, #T_52e86_row2_col1, #T_52e86_row2_col6, #T_52e86_row7_col0, #T_52e86_row7_col3 {\n",
              "  background-color: #3b4cc0;\n",
              "  color: #f1f1f1;\n",
              "}\n",
              "#T_52e86_row0_col6, #T_52e86_row6_col3 {\n",
              "  background-color: #485fd1;\n",
              "  color: #f1f1f1;\n",
              "}\n",
              "#T_52e86_row1_col0 {\n",
              "  background-color: #f7af91;\n",
              "  color: #000000;\n",
              "}\n",
              "#T_52e86_row1_col3, #T_52e86_row2_col5 {\n",
              "  background-color: #445acc;\n",
              "  color: #f1f1f1;\n",
              "}\n",
              "#T_52e86_row1_col4 {\n",
              "  background-color: #4e68d8;\n",
              "  color: #f1f1f1;\n",
              "}\n",
              "#T_52e86_row1_col5 {\n",
              "  background-color: #4358cb;\n",
              "  color: #f1f1f1;\n",
              "}\n",
              "#T_52e86_row1_col6 {\n",
              "  background-color: #536edd;\n",
              "  color: #f1f1f1;\n",
              "}\n",
              "#T_52e86_row1_col7 {\n",
              "  background-color: #4961d2;\n",
              "  color: #f1f1f1;\n",
              "}\n",
              "#T_52e86_row2_col0 {\n",
              "  background-color: #89acfd;\n",
              "  color: #000000;\n",
              "}\n",
              "#T_52e86_row2_col3 {\n",
              "  background-color: #4a63d3;\n",
              "  color: #f1f1f1;\n",
              "}\n",
              "#T_52e86_row2_col4, #T_52e86_row5_col3, #T_52e86_row7_col1 {\n",
              "  background-color: #5673e0;\n",
              "  color: #f1f1f1;\n",
              "}\n",
              "#T_52e86_row2_col7 {\n",
              "  background-color: #5e7de7;\n",
              "  color: #f1f1f1;\n",
              "}\n",
              "#T_52e86_row3_col0 {\n",
              "  background-color: #7da0f9;\n",
              "  color: #f1f1f1;\n",
              "}\n",
              "#T_52e86_row3_col1, #T_52e86_row4_col1 {\n",
              "  background-color: #88abfd;\n",
              "  color: #000000;\n",
              "}\n",
              "#T_52e86_row3_col2, #T_52e86_row4_col7 {\n",
              "  background-color: #8db0fe;\n",
              "  color: #000000;\n",
              "}\n",
              "#T_52e86_row3_col4 {\n",
              "  background-color: #9bbcff;\n",
              "  color: #000000;\n",
              "}\n",
              "#T_52e86_row3_col5 {\n",
              "  background-color: #5977e3;\n",
              "  color: #f1f1f1;\n",
              "}\n",
              "#T_52e86_row3_col6 {\n",
              "  background-color: #5a78e4;\n",
              "  color: #f1f1f1;\n",
              "}\n",
              "#T_52e86_row3_col7, #T_52e86_row4_col6 {\n",
              "  background-color: #7295f4;\n",
              "  color: #f1f1f1;\n",
              "}\n",
              "#T_52e86_row4_col0 {\n",
              "  background-color: #688aef;\n",
              "  color: #f1f1f1;\n",
              "}\n",
              "#T_52e86_row4_col2 {\n",
              "  background-color: #90b2fe;\n",
              "  color: #000000;\n",
              "}\n",
              "#T_52e86_row4_col3 {\n",
              "  background-color: #93b5fe;\n",
              "  color: #000000;\n",
              "}\n",
              "#T_52e86_row4_col5, #T_52e86_row6_col0, #T_52e86_row6_col2 {\n",
              "  background-color: #6c8ff1;\n",
              "  color: #f1f1f1;\n",
              "}\n",
              "#T_52e86_row5_col0, #T_52e86_row5_col6 {\n",
              "  background-color: #6f92f3;\n",
              "  color: #f1f1f1;\n",
              "}\n",
              "#T_52e86_row5_col1 {\n",
              "  background-color: #85a8fc;\n",
              "  color: #f1f1f1;\n",
              "}\n",
              "#T_52e86_row5_col2 {\n",
              "  background-color: #86a9fc;\n",
              "  color: #f1f1f1;\n",
              "}\n",
              "#T_52e86_row5_col4 {\n",
              "  background-color: #7396f5;\n",
              "  color: #f1f1f1;\n",
              "}\n",
              "#T_52e86_row5_col7 {\n",
              "  background-color: #81a4fb;\n",
              "  color: #f1f1f1;\n",
              "}\n",
              "#T_52e86_row6_col1 {\n",
              "  background-color: #84a7fc;\n",
              "  color: #f1f1f1;\n",
              "}\n",
              "#T_52e86_row6_col4 {\n",
              "  background-color: #6a8bef;\n",
              "  color: #f1f1f1;\n",
              "}\n",
              "#T_52e86_row6_col5 {\n",
              "  background-color: #5f7fe8;\n",
              "  color: #f1f1f1;\n",
              "}\n",
              "#T_52e86_row6_col7 {\n",
              "  background-color: #7597f6;\n",
              "  color: #f1f1f1;\n",
              "}\n",
              "#T_52e86_row7_col2 {\n",
              "  background-color: #6b8df0;\n",
              "  color: #f1f1f1;\n",
              "}\n",
              "#T_52e86_row7_col4 {\n",
              "  background-color: #6180e9;\n",
              "  color: #f1f1f1;\n",
              "}\n",
              "#T_52e86_row7_col5 {\n",
              "  background-color: #4b64d5;\n",
              "  color: #f1f1f1;\n",
              "}\n",
              "#T_52e86_row7_col6 {\n",
              "  background-color: #4f69d9;\n",
              "  color: #f1f1f1;\n",
              "}\n",
              "</style>\n",
              "<table id=\"T_52e86_\" class=\"dataframe\">\n",
              "  <thead>\n",
              "    <tr>\n",
              "      <th class=\"blank level0\" >&nbsp;</th>\n",
              "      <th class=\"col_heading level0 col0\" >Duration in month</th>\n",
              "      <th class=\"col_heading level0 col1\" >Credit amount</th>\n",
              "      <th class=\"col_heading level0 col2\" >Installment rate in percentage of disposable income</th>\n",
              "      <th class=\"col_heading level0 col3\" >Present residence since</th>\n",
              "      <th class=\"col_heading level0 col4\" >Age in years</th>\n",
              "      <th class=\"col_heading level0 col5\" >Number of existing credits at this bank</th>\n",
              "      <th class=\"col_heading level0 col6\" >Number of people being liable to provide maintenance for</th>\n",
              "      <th class=\"col_heading level0 col7\" >Cost_MatrixRisk</th>\n",
              "    </tr>\n",
              "  </thead>\n",
              "  <tbody>\n",
              "    <tr>\n",
              "      <th id=\"T_52e86_level0_row0\" class=\"row_heading level0 row0\" >Duration in month</th>\n",
              "      <td id=\"T_52e86_row0_col0\" class=\"data row0 col0\" >1.000000</td>\n",
              "      <td id=\"T_52e86_row0_col1\" class=\"data row0 col1\" >0.625079</td>\n",
              "      <td id=\"T_52e86_row0_col2\" class=\"data row0 col2\" >0.075085</td>\n",
              "      <td id=\"T_52e86_row0_col3\" class=\"data row0 col3\" >0.034821</td>\n",
              "      <td id=\"T_52e86_row0_col4\" class=\"data row0 col4\" >-0.036823</td>\n",
              "      <td id=\"T_52e86_row0_col5\" class=\"data row0 col5\" >-0.011463</td>\n",
              "      <td id=\"T_52e86_row0_col6\" class=\"data row0 col6\" >-0.023957</td>\n",
              "      <td id=\"T_52e86_row0_col7\" class=\"data row0 col7\" >-0.215032</td>\n",
              "    </tr>\n",
              "    <tr>\n",
              "      <th id=\"T_52e86_level0_row1\" class=\"row_heading level0 row1\" >Credit amount</th>\n",
              "      <td id=\"T_52e86_row1_col0\" class=\"data row1 col0\" >0.625079</td>\n",
              "      <td id=\"T_52e86_row1_col1\" class=\"data row1 col1\" >1.000000</td>\n",
              "      <td id=\"T_52e86_row1_col2\" class=\"data row1 col2\" >-0.270470</td>\n",
              "      <td id=\"T_52e86_row1_col3\" class=\"data row1 col3\" >0.028836</td>\n",
              "      <td id=\"T_52e86_row1_col4\" class=\"data row1 col4\" >0.031577</td>\n",
              "      <td id=\"T_52e86_row1_col5\" class=\"data row1 col5\" >0.019876</td>\n",
              "      <td id=\"T_52e86_row1_col6\" class=\"data row1 col6\" >0.016584</td>\n",
              "      <td id=\"T_52e86_row1_col7\" class=\"data row1 col7\" >-0.154018</td>\n",
              "    </tr>\n",
              "    <tr>\n",
              "      <th id=\"T_52e86_level0_row2\" class=\"row_heading level0 row2\" >Installment rate in percentage of disposable income</th>\n",
              "      <td id=\"T_52e86_row2_col0\" class=\"data row2 col0\" >0.075085</td>\n",
              "      <td id=\"T_52e86_row2_col1\" class=\"data row2 col1\" >-0.270470</td>\n",
              "      <td id=\"T_52e86_row2_col2\" class=\"data row2 col2\" >1.000000</td>\n",
              "      <td id=\"T_52e86_row2_col3\" class=\"data row2 col3\" >0.049935</td>\n",
              "      <td id=\"T_52e86_row2_col4\" class=\"data row2 col4\" >0.059738</td>\n",
              "      <td id=\"T_52e86_row2_col5\" class=\"data row2 col5\" >0.022997</td>\n",
              "      <td id=\"T_52e86_row2_col6\" class=\"data row2 col6\" >-0.070491</td>\n",
              "      <td id=\"T_52e86_row2_col7\" class=\"data row2 col7\" >-0.073703</td>\n",
              "    </tr>\n",
              "    <tr>\n",
              "      <th id=\"T_52e86_level0_row3\" class=\"row_heading level0 row3\" >Present residence since</th>\n",
              "      <td id=\"T_52e86_row3_col0\" class=\"data row3 col0\" >0.034821</td>\n",
              "      <td id=\"T_52e86_row3_col1\" class=\"data row3 col1\" >0.028836</td>\n",
              "      <td id=\"T_52e86_row3_col2\" class=\"data row3 col2\" >0.049935</td>\n",
              "      <td id=\"T_52e86_row3_col3\" class=\"data row3 col3\" >1.000000</td>\n",
              "      <td id=\"T_52e86_row3_col4\" class=\"data row3 col4\" >0.266438</td>\n",
              "      <td id=\"T_52e86_row3_col5\" class=\"data row3 col5\" >0.089255</td>\n",
              "      <td id=\"T_52e86_row3_col6\" class=\"data row3 col6\" >0.042396</td>\n",
              "      <td id=\"T_52e86_row3_col7\" class=\"data row3 col7\" >-0.002559</td>\n",
              "    </tr>\n",
              "    <tr>\n",
              "      <th id=\"T_52e86_level0_row4\" class=\"row_heading level0 row4\" >Age in years</th>\n",
              "      <td id=\"T_52e86_row4_col0\" class=\"data row4 col0\" >-0.036823</td>\n",
              "      <td id=\"T_52e86_row4_col1\" class=\"data row4 col1\" >0.031577</td>\n",
              "      <td id=\"T_52e86_row4_col2\" class=\"data row4 col2\" >0.059738</td>\n",
              "      <td id=\"T_52e86_row4_col3\" class=\"data row4 col3\" >0.266438</td>\n",
              "      <td id=\"T_52e86_row4_col4\" class=\"data row4 col4\" >1.000000</td>\n",
              "      <td id=\"T_52e86_row4_col5\" class=\"data row4 col5\" >0.148360</td>\n",
              "      <td id=\"T_52e86_row4_col6\" class=\"data row4 col6\" >0.117652</td>\n",
              "      <td id=\"T_52e86_row4_col7\" class=\"data row4 col7\" >0.092212</td>\n",
              "    </tr>\n",
              "    <tr>\n",
              "      <th id=\"T_52e86_level0_row5\" class=\"row_heading level0 row5\" >Number of existing credits at this bank</th>\n",
              "      <td id=\"T_52e86_row5_col0\" class=\"data row5 col0\" >-0.011463</td>\n",
              "      <td id=\"T_52e86_row5_col1\" class=\"data row5 col1\" >0.019876</td>\n",
              "      <td id=\"T_52e86_row5_col2\" class=\"data row5 col2\" >0.022997</td>\n",
              "      <td id=\"T_52e86_row5_col3\" class=\"data row5 col3\" >0.089255</td>\n",
              "      <td id=\"T_52e86_row5_col4\" class=\"data row5 col4\" >0.148360</td>\n",
              "      <td id=\"T_52e86_row5_col5\" class=\"data row5 col5\" >1.000000</td>\n",
              "      <td id=\"T_52e86_row5_col6\" class=\"data row5 col6\" >0.109136</td>\n",
              "      <td id=\"T_52e86_row5_col7\" class=\"data row5 col7\" >0.046701</td>\n",
              "    </tr>\n",
              "    <tr>\n",
              "      <th id=\"T_52e86_level0_row6\" class=\"row_heading level0 row6\" >Number of people being liable to provide maintenance for</th>\n",
              "      <td id=\"T_52e86_row6_col0\" class=\"data row6 col0\" >-0.023957</td>\n",
              "      <td id=\"T_52e86_row6_col1\" class=\"data row6 col1\" >0.016584</td>\n",
              "      <td id=\"T_52e86_row6_col2\" class=\"data row6 col2\" >-0.070491</td>\n",
              "      <td id=\"T_52e86_row6_col3\" class=\"data row6 col3\" >0.042396</td>\n",
              "      <td id=\"T_52e86_row6_col4\" class=\"data row6 col4\" >0.117652</td>\n",
              "      <td id=\"T_52e86_row6_col5\" class=\"data row6 col5\" >0.109136</td>\n",
              "      <td id=\"T_52e86_row6_col6\" class=\"data row6 col6\" >1.000000</td>\n",
              "      <td id=\"T_52e86_row6_col7\" class=\"data row6 col7\" >0.003579</td>\n",
              "    </tr>\n",
              "    <tr>\n",
              "      <th id=\"T_52e86_level0_row7\" class=\"row_heading level0 row7\" >Cost_MatrixRisk</th>\n",
              "      <td id=\"T_52e86_row7_col0\" class=\"data row7 col0\" >-0.215032</td>\n",
              "      <td id=\"T_52e86_row7_col1\" class=\"data row7 col1\" >-0.154018</td>\n",
              "      <td id=\"T_52e86_row7_col2\" class=\"data row7 col2\" >-0.073703</td>\n",
              "      <td id=\"T_52e86_row7_col3\" class=\"data row7 col3\" >-0.002559</td>\n",
              "      <td id=\"T_52e86_row7_col4\" class=\"data row7 col4\" >0.092212</td>\n",
              "      <td id=\"T_52e86_row7_col5\" class=\"data row7 col5\" >0.046701</td>\n",
              "      <td id=\"T_52e86_row7_col6\" class=\"data row7 col6\" >0.003579</td>\n",
              "      <td id=\"T_52e86_row7_col7\" class=\"data row7 col7\" >1.000000</td>\n",
              "    </tr>\n",
              "  </tbody>\n",
              "</table>\n"
            ]
          },
          "metadata": {},
          "execution_count": 23
        }
      ],
      "source": [
        "corr = credit_data.corr()\n",
        "corr.style.background_gradient(cmap='coolwarm')"
      ]
    },
    {
      "cell_type": "markdown",
      "metadata": {
        "id": "aDCvWqd_3u9J"
      },
      "source": [
        "## Feature preprocessing\n",
        "\n",
        "Here we are going to preprocess our features by encoding our categorical features as well as scalling our numerical features before applying modelling techniques\n",
        "\n",
        "we are also going to look into the balancing our target variable one is by doing it manually then later on try out hybrid mechanissm like using SMOTE oversamppling techniques"
      ]
    },
    {
      "cell_type": "code",
      "execution_count": 24,
      "metadata": {
        "id": "82wj3o1F3oCB",
        "colab": {
          "base_uri": "https://localhost:8080/",
          "height": 502
        },
        "outputId": "1306cfb3-4d6c-442c-f64f-ad26a26d691b"
      },
      "outputs": [
        {
          "output_type": "execute_result",
          "data": {
            "text/plain": [
              "    Status of existing checking account Credit history Purpose  \\\n",
              "0                                   A11            A34     A43   \n",
              "1                                   A12            A32     A43   \n",
              "2                                   A14            A34     A46   \n",
              "3                                   A11            A32     A42   \n",
              "4                                   A11            A33     A40   \n",
              "..                                  ...            ...     ...   \n",
              "995                                 A14            A32     A42   \n",
              "996                                 A11            A32     A41   \n",
              "997                                 A14            A32     A43   \n",
              "998                                 A11            A32     A43   \n",
              "999                                 A12            A34     A41   \n",
              "\n",
              "    Savings account/bonds Present employment since Personal status and sex  \\\n",
              "0                     A65                      A75                     A93   \n",
              "1                     A61                      A73                     A92   \n",
              "2                     A61                      A74                     A93   \n",
              "3                     A61                      A74                     A93   \n",
              "4                     A61                      A73                     A93   \n",
              "..                    ...                      ...                     ...   \n",
              "995                   A61                      A74                     A92   \n",
              "996                   A61                      A73                     A91   \n",
              "997                   A61                      A75                     A93   \n",
              "998                   A61                      A73                     A93   \n",
              "999                   A62                      A71                     A93   \n",
              "\n",
              "    Other debtors / guarantors Property Other installment plans Housing   Job  \\\n",
              "0                         A101     A121                    A143    A152  A173   \n",
              "1                         A101     A121                    A143    A152  A173   \n",
              "2                         A101     A121                    A143    A152  A172   \n",
              "3                         A103     A122                    A143    A153  A173   \n",
              "4                         A101     A124                    A143    A153  A173   \n",
              "..                         ...      ...                     ...     ...   ...   \n",
              "995                       A101     A121                    A143    A152  A172   \n",
              "996                       A101     A122                    A143    A152  A174   \n",
              "997                       A101     A123                    A143    A152  A173   \n",
              "998                       A101     A124                    A143    A153  A173   \n",
              "999                       A101     A123                    A143    A152  A173   \n",
              "\n",
              "    Telephone foreign worker  \n",
              "0        A192           A201  \n",
              "1        A191           A201  \n",
              "2        A191           A201  \n",
              "3        A191           A201  \n",
              "4        A191           A201  \n",
              "..        ...            ...  \n",
              "995      A191           A201  \n",
              "996      A192           A201  \n",
              "997      A191           A201  \n",
              "998      A192           A201  \n",
              "999      A191           A201  \n",
              "\n",
              "[1000 rows x 13 columns]"
            ],
            "text/html": [
              "\n",
              "  <div id=\"df-af0efcbf-c8eb-4c45-9f8f-9ea0331a168f\">\n",
              "    <div class=\"colab-df-container\">\n",
              "      <div>\n",
              "<style scoped>\n",
              "    .dataframe tbody tr th:only-of-type {\n",
              "        vertical-align: middle;\n",
              "    }\n",
              "\n",
              "    .dataframe tbody tr th {\n",
              "        vertical-align: top;\n",
              "    }\n",
              "\n",
              "    .dataframe thead th {\n",
              "        text-align: right;\n",
              "    }\n",
              "</style>\n",
              "<table border=\"1\" class=\"dataframe\">\n",
              "  <thead>\n",
              "    <tr style=\"text-align: right;\">\n",
              "      <th></th>\n",
              "      <th>Status of existing checking account</th>\n",
              "      <th>Credit history</th>\n",
              "      <th>Purpose</th>\n",
              "      <th>Savings account/bonds</th>\n",
              "      <th>Present employment since</th>\n",
              "      <th>Personal status and sex</th>\n",
              "      <th>Other debtors / guarantors</th>\n",
              "      <th>Property</th>\n",
              "      <th>Other installment plans</th>\n",
              "      <th>Housing</th>\n",
              "      <th>Job</th>\n",
              "      <th>Telephone</th>\n",
              "      <th>foreign worker</th>\n",
              "    </tr>\n",
              "  </thead>\n",
              "  <tbody>\n",
              "    <tr>\n",
              "      <th>0</th>\n",
              "      <td>A11</td>\n",
              "      <td>A34</td>\n",
              "      <td>A43</td>\n",
              "      <td>A65</td>\n",
              "      <td>A75</td>\n",
              "      <td>A93</td>\n",
              "      <td>A101</td>\n",
              "      <td>A121</td>\n",
              "      <td>A143</td>\n",
              "      <td>A152</td>\n",
              "      <td>A173</td>\n",
              "      <td>A192</td>\n",
              "      <td>A201</td>\n",
              "    </tr>\n",
              "    <tr>\n",
              "      <th>1</th>\n",
              "      <td>A12</td>\n",
              "      <td>A32</td>\n",
              "      <td>A43</td>\n",
              "      <td>A61</td>\n",
              "      <td>A73</td>\n",
              "      <td>A92</td>\n",
              "      <td>A101</td>\n",
              "      <td>A121</td>\n",
              "      <td>A143</td>\n",
              "      <td>A152</td>\n",
              "      <td>A173</td>\n",
              "      <td>A191</td>\n",
              "      <td>A201</td>\n",
              "    </tr>\n",
              "    <tr>\n",
              "      <th>2</th>\n",
              "      <td>A14</td>\n",
              "      <td>A34</td>\n",
              "      <td>A46</td>\n",
              "      <td>A61</td>\n",
              "      <td>A74</td>\n",
              "      <td>A93</td>\n",
              "      <td>A101</td>\n",
              "      <td>A121</td>\n",
              "      <td>A143</td>\n",
              "      <td>A152</td>\n",
              "      <td>A172</td>\n",
              "      <td>A191</td>\n",
              "      <td>A201</td>\n",
              "    </tr>\n",
              "    <tr>\n",
              "      <th>3</th>\n",
              "      <td>A11</td>\n",
              "      <td>A32</td>\n",
              "      <td>A42</td>\n",
              "      <td>A61</td>\n",
              "      <td>A74</td>\n",
              "      <td>A93</td>\n",
              "      <td>A103</td>\n",
              "      <td>A122</td>\n",
              "      <td>A143</td>\n",
              "      <td>A153</td>\n",
              "      <td>A173</td>\n",
              "      <td>A191</td>\n",
              "      <td>A201</td>\n",
              "    </tr>\n",
              "    <tr>\n",
              "      <th>4</th>\n",
              "      <td>A11</td>\n",
              "      <td>A33</td>\n",
              "      <td>A40</td>\n",
              "      <td>A61</td>\n",
              "      <td>A73</td>\n",
              "      <td>A93</td>\n",
              "      <td>A101</td>\n",
              "      <td>A124</td>\n",
              "      <td>A143</td>\n",
              "      <td>A153</td>\n",
              "      <td>A173</td>\n",
              "      <td>A191</td>\n",
              "      <td>A201</td>\n",
              "    </tr>\n",
              "    <tr>\n",
              "      <th>...</th>\n",
              "      <td>...</td>\n",
              "      <td>...</td>\n",
              "      <td>...</td>\n",
              "      <td>...</td>\n",
              "      <td>...</td>\n",
              "      <td>...</td>\n",
              "      <td>...</td>\n",
              "      <td>...</td>\n",
              "      <td>...</td>\n",
              "      <td>...</td>\n",
              "      <td>...</td>\n",
              "      <td>...</td>\n",
              "      <td>...</td>\n",
              "    </tr>\n",
              "    <tr>\n",
              "      <th>995</th>\n",
              "      <td>A14</td>\n",
              "      <td>A32</td>\n",
              "      <td>A42</td>\n",
              "      <td>A61</td>\n",
              "      <td>A74</td>\n",
              "      <td>A92</td>\n",
              "      <td>A101</td>\n",
              "      <td>A121</td>\n",
              "      <td>A143</td>\n",
              "      <td>A152</td>\n",
              "      <td>A172</td>\n",
              "      <td>A191</td>\n",
              "      <td>A201</td>\n",
              "    </tr>\n",
              "    <tr>\n",
              "      <th>996</th>\n",
              "      <td>A11</td>\n",
              "      <td>A32</td>\n",
              "      <td>A41</td>\n",
              "      <td>A61</td>\n",
              "      <td>A73</td>\n",
              "      <td>A91</td>\n",
              "      <td>A101</td>\n",
              "      <td>A122</td>\n",
              "      <td>A143</td>\n",
              "      <td>A152</td>\n",
              "      <td>A174</td>\n",
              "      <td>A192</td>\n",
              "      <td>A201</td>\n",
              "    </tr>\n",
              "    <tr>\n",
              "      <th>997</th>\n",
              "      <td>A14</td>\n",
              "      <td>A32</td>\n",
              "      <td>A43</td>\n",
              "      <td>A61</td>\n",
              "      <td>A75</td>\n",
              "      <td>A93</td>\n",
              "      <td>A101</td>\n",
              "      <td>A123</td>\n",
              "      <td>A143</td>\n",
              "      <td>A152</td>\n",
              "      <td>A173</td>\n",
              "      <td>A191</td>\n",
              "      <td>A201</td>\n",
              "    </tr>\n",
              "    <tr>\n",
              "      <th>998</th>\n",
              "      <td>A11</td>\n",
              "      <td>A32</td>\n",
              "      <td>A43</td>\n",
              "      <td>A61</td>\n",
              "      <td>A73</td>\n",
              "      <td>A93</td>\n",
              "      <td>A101</td>\n",
              "      <td>A124</td>\n",
              "      <td>A143</td>\n",
              "      <td>A153</td>\n",
              "      <td>A173</td>\n",
              "      <td>A192</td>\n",
              "      <td>A201</td>\n",
              "    </tr>\n",
              "    <tr>\n",
              "      <th>999</th>\n",
              "      <td>A12</td>\n",
              "      <td>A34</td>\n",
              "      <td>A41</td>\n",
              "      <td>A62</td>\n",
              "      <td>A71</td>\n",
              "      <td>A93</td>\n",
              "      <td>A101</td>\n",
              "      <td>A123</td>\n",
              "      <td>A143</td>\n",
              "      <td>A152</td>\n",
              "      <td>A173</td>\n",
              "      <td>A191</td>\n",
              "      <td>A201</td>\n",
              "    </tr>\n",
              "  </tbody>\n",
              "</table>\n",
              "<p>1000 rows × 13 columns</p>\n",
              "</div>\n",
              "      <button class=\"colab-df-convert\" onclick=\"convertToInteractive('df-af0efcbf-c8eb-4c45-9f8f-9ea0331a168f')\"\n",
              "              title=\"Convert this dataframe to an interactive table.\"\n",
              "              style=\"display:none;\">\n",
              "        \n",
              "  <svg xmlns=\"http://www.w3.org/2000/svg\" height=\"24px\"viewBox=\"0 0 24 24\"\n",
              "       width=\"24px\">\n",
              "    <path d=\"M0 0h24v24H0V0z\" fill=\"none\"/>\n",
              "    <path d=\"M18.56 5.44l.94 2.06.94-2.06 2.06-.94-2.06-.94-.94-2.06-.94 2.06-2.06.94zm-11 1L8.5 8.5l.94-2.06 2.06-.94-2.06-.94L8.5 2.5l-.94 2.06-2.06.94zm10 10l.94 2.06.94-2.06 2.06-.94-2.06-.94-.94-2.06-.94 2.06-2.06.94z\"/><path d=\"M17.41 7.96l-1.37-1.37c-.4-.4-.92-.59-1.43-.59-.52 0-1.04.2-1.43.59L10.3 9.45l-7.72 7.72c-.78.78-.78 2.05 0 2.83L4 21.41c.39.39.9.59 1.41.59.51 0 1.02-.2 1.41-.59l7.78-7.78 2.81-2.81c.8-.78.8-2.07 0-2.86zM5.41 20L4 18.59l7.72-7.72 1.47 1.35L5.41 20z\"/>\n",
              "  </svg>\n",
              "      </button>\n",
              "      \n",
              "  <style>\n",
              "    .colab-df-container {\n",
              "      display:flex;\n",
              "      flex-wrap:wrap;\n",
              "      gap: 12px;\n",
              "    }\n",
              "\n",
              "    .colab-df-convert {\n",
              "      background-color: #E8F0FE;\n",
              "      border: none;\n",
              "      border-radius: 50%;\n",
              "      cursor: pointer;\n",
              "      display: none;\n",
              "      fill: #1967D2;\n",
              "      height: 32px;\n",
              "      padding: 0 0 0 0;\n",
              "      width: 32px;\n",
              "    }\n",
              "\n",
              "    .colab-df-convert:hover {\n",
              "      background-color: #E2EBFA;\n",
              "      box-shadow: 0px 1px 2px rgba(60, 64, 67, 0.3), 0px 1px 3px 1px rgba(60, 64, 67, 0.15);\n",
              "      fill: #174EA6;\n",
              "    }\n",
              "\n",
              "    [theme=dark] .colab-df-convert {\n",
              "      background-color: #3B4455;\n",
              "      fill: #D2E3FC;\n",
              "    }\n",
              "\n",
              "    [theme=dark] .colab-df-convert:hover {\n",
              "      background-color: #434B5C;\n",
              "      box-shadow: 0px 1px 3px 1px rgba(0, 0, 0, 0.15);\n",
              "      filter: drop-shadow(0px 1px 2px rgba(0, 0, 0, 0.3));\n",
              "      fill: #FFFFFF;\n",
              "    }\n",
              "  </style>\n",
              "\n",
              "      <script>\n",
              "        const buttonEl =\n",
              "          document.querySelector('#df-af0efcbf-c8eb-4c45-9f8f-9ea0331a168f button.colab-df-convert');\n",
              "        buttonEl.style.display =\n",
              "          google.colab.kernel.accessAllowed ? 'block' : 'none';\n",
              "\n",
              "        async function convertToInteractive(key) {\n",
              "          const element = document.querySelector('#df-af0efcbf-c8eb-4c45-9f8f-9ea0331a168f');\n",
              "          const dataTable =\n",
              "            await google.colab.kernel.invokeFunction('convertToInteractive',\n",
              "                                                     [key], {});\n",
              "          if (!dataTable) return;\n",
              "\n",
              "          const docLinkHtml = 'Like what you see? Visit the ' +\n",
              "            '<a target=\"_blank\" href=https://colab.research.google.com/notebooks/data_table.ipynb>data table notebook</a>'\n",
              "            + ' to learn more about interactive tables.';\n",
              "          element.innerHTML = '';\n",
              "          dataTable['output_type'] = 'display_data';\n",
              "          await google.colab.output.renderOutput(dataTable, element);\n",
              "          const docLink = document.createElement('div');\n",
              "          docLink.innerHTML = docLinkHtml;\n",
              "          element.appendChild(docLink);\n",
              "        }\n",
              "      </script>\n",
              "    </div>\n",
              "  </div>\n",
              "  "
            ]
          },
          "metadata": {},
          "execution_count": 24
        }
      ],
      "source": [
        "categorical_feat\n"
      ]
    },
    {
      "cell_type": "code",
      "source": [
        "# Label Encoding\n",
        "from sklearn.preprocessing import LabelEncoder\n",
        "\n",
        "# list of categorical features\n",
        "cols_to_encode = categorical_feat.columns\n",
        "\n",
        "# encoding function\n",
        "def label_enc(df, col_list):\n",
        "  encoder = LabelEncoder()\n",
        "  for col in col_list:\n",
        "    df[col] = encoder.fit_transform(df[col])\n",
        "  return df\n",
        "\n",
        "credit_data = label_enc(credit_data, cols_to_encode)\n",
        "# cheking first few cols of train set\n",
        "credit_data.head(5)"
      ],
      "metadata": {
        "colab": {
          "base_uri": "https://localhost:8080/",
          "height": 404
        },
        "id": "NPusoZk7vgoq",
        "outputId": "2f241029-9f9b-418f-b4ca-ae0c31d1416e"
      },
      "execution_count": 25,
      "outputs": [
        {
          "output_type": "execute_result",
          "data": {
            "text/plain": [
              "   Status of existing checking account  Duration in month  Credit history  \\\n",
              "0                                    0                  6               4   \n",
              "1                                    1                 48               2   \n",
              "2                                    3                 12               4   \n",
              "3                                    0                 42               2   \n",
              "4                                    0                 24               3   \n",
              "\n",
              "   Purpose  Credit amount  Savings account/bonds  Present employment since  \\\n",
              "0        4           1169                      4                         4   \n",
              "1        4           5951                      0                         2   \n",
              "2        7           2096                      0                         3   \n",
              "3        3           7882                      0                         3   \n",
              "4        0           4870                      0                         2   \n",
              "\n",
              "   Installment rate in percentage of disposable income  \\\n",
              "0                                                  4     \n",
              "1                                                  2     \n",
              "2                                                  2     \n",
              "3                                                  2     \n",
              "4                                                  3     \n",
              "\n",
              "   Personal status and sex  Other debtors / guarantors  ...  Property  \\\n",
              "0                        2                           0  ...         0   \n",
              "1                        1                           0  ...         0   \n",
              "2                        2                           0  ...         0   \n",
              "3                        2                           2  ...         1   \n",
              "4                        2                           0  ...         3   \n",
              "\n",
              "   Age in years  Other installment plans  Housing  \\\n",
              "0            67                        2        1   \n",
              "1            22                        2        1   \n",
              "2            49                        2        1   \n",
              "3            45                        2        2   \n",
              "4            53                        2        2   \n",
              "\n",
              "   Number of existing credits at this bank  Job  \\\n",
              "0                                        2    2   \n",
              "1                                        1    2   \n",
              "2                                        1    1   \n",
              "3                                        1    2   \n",
              "4                                        2    2   \n",
              "\n",
              "   Number of people being liable to provide maintenance for  Telephone  \\\n",
              "0                                                  1                 1   \n",
              "1                                                  1                 0   \n",
              "2                                                  2                 0   \n",
              "3                                                  2                 0   \n",
              "4                                                  2                 0   \n",
              "\n",
              "   foreign worker  Cost_MatrixRisk  \n",
              "0               0                1  \n",
              "1               0                0  \n",
              "2               0                1  \n",
              "3               0                1  \n",
              "4               0                0  \n",
              "\n",
              "[5 rows x 21 columns]"
            ],
            "text/html": [
              "\n",
              "  <div id=\"df-4aa79509-ee3d-4c2a-bf82-cff053611222\">\n",
              "    <div class=\"colab-df-container\">\n",
              "      <div>\n",
              "<style scoped>\n",
              "    .dataframe tbody tr th:only-of-type {\n",
              "        vertical-align: middle;\n",
              "    }\n",
              "\n",
              "    .dataframe tbody tr th {\n",
              "        vertical-align: top;\n",
              "    }\n",
              "\n",
              "    .dataframe thead th {\n",
              "        text-align: right;\n",
              "    }\n",
              "</style>\n",
              "<table border=\"1\" class=\"dataframe\">\n",
              "  <thead>\n",
              "    <tr style=\"text-align: right;\">\n",
              "      <th></th>\n",
              "      <th>Status of existing checking account</th>\n",
              "      <th>Duration in month</th>\n",
              "      <th>Credit history</th>\n",
              "      <th>Purpose</th>\n",
              "      <th>Credit amount</th>\n",
              "      <th>Savings account/bonds</th>\n",
              "      <th>Present employment since</th>\n",
              "      <th>Installment rate in percentage of disposable income</th>\n",
              "      <th>Personal status and sex</th>\n",
              "      <th>Other debtors / guarantors</th>\n",
              "      <th>...</th>\n",
              "      <th>Property</th>\n",
              "      <th>Age in years</th>\n",
              "      <th>Other installment plans</th>\n",
              "      <th>Housing</th>\n",
              "      <th>Number of existing credits at this bank</th>\n",
              "      <th>Job</th>\n",
              "      <th>Number of people being liable to provide maintenance for</th>\n",
              "      <th>Telephone</th>\n",
              "      <th>foreign worker</th>\n",
              "      <th>Cost_MatrixRisk</th>\n",
              "    </tr>\n",
              "  </thead>\n",
              "  <tbody>\n",
              "    <tr>\n",
              "      <th>0</th>\n",
              "      <td>0</td>\n",
              "      <td>6</td>\n",
              "      <td>4</td>\n",
              "      <td>4</td>\n",
              "      <td>1169</td>\n",
              "      <td>4</td>\n",
              "      <td>4</td>\n",
              "      <td>4</td>\n",
              "      <td>2</td>\n",
              "      <td>0</td>\n",
              "      <td>...</td>\n",
              "      <td>0</td>\n",
              "      <td>67</td>\n",
              "      <td>2</td>\n",
              "      <td>1</td>\n",
              "      <td>2</td>\n",
              "      <td>2</td>\n",
              "      <td>1</td>\n",
              "      <td>1</td>\n",
              "      <td>0</td>\n",
              "      <td>1</td>\n",
              "    </tr>\n",
              "    <tr>\n",
              "      <th>1</th>\n",
              "      <td>1</td>\n",
              "      <td>48</td>\n",
              "      <td>2</td>\n",
              "      <td>4</td>\n",
              "      <td>5951</td>\n",
              "      <td>0</td>\n",
              "      <td>2</td>\n",
              "      <td>2</td>\n",
              "      <td>1</td>\n",
              "      <td>0</td>\n",
              "      <td>...</td>\n",
              "      <td>0</td>\n",
              "      <td>22</td>\n",
              "      <td>2</td>\n",
              "      <td>1</td>\n",
              "      <td>1</td>\n",
              "      <td>2</td>\n",
              "      <td>1</td>\n",
              "      <td>0</td>\n",
              "      <td>0</td>\n",
              "      <td>0</td>\n",
              "    </tr>\n",
              "    <tr>\n",
              "      <th>2</th>\n",
              "      <td>3</td>\n",
              "      <td>12</td>\n",
              "      <td>4</td>\n",
              "      <td>7</td>\n",
              "      <td>2096</td>\n",
              "      <td>0</td>\n",
              "      <td>3</td>\n",
              "      <td>2</td>\n",
              "      <td>2</td>\n",
              "      <td>0</td>\n",
              "      <td>...</td>\n",
              "      <td>0</td>\n",
              "      <td>49</td>\n",
              "      <td>2</td>\n",
              "      <td>1</td>\n",
              "      <td>1</td>\n",
              "      <td>1</td>\n",
              "      <td>2</td>\n",
              "      <td>0</td>\n",
              "      <td>0</td>\n",
              "      <td>1</td>\n",
              "    </tr>\n",
              "    <tr>\n",
              "      <th>3</th>\n",
              "      <td>0</td>\n",
              "      <td>42</td>\n",
              "      <td>2</td>\n",
              "      <td>3</td>\n",
              "      <td>7882</td>\n",
              "      <td>0</td>\n",
              "      <td>3</td>\n",
              "      <td>2</td>\n",
              "      <td>2</td>\n",
              "      <td>2</td>\n",
              "      <td>...</td>\n",
              "      <td>1</td>\n",
              "      <td>45</td>\n",
              "      <td>2</td>\n",
              "      <td>2</td>\n",
              "      <td>1</td>\n",
              "      <td>2</td>\n",
              "      <td>2</td>\n",
              "      <td>0</td>\n",
              "      <td>0</td>\n",
              "      <td>1</td>\n",
              "    </tr>\n",
              "    <tr>\n",
              "      <th>4</th>\n",
              "      <td>0</td>\n",
              "      <td>24</td>\n",
              "      <td>3</td>\n",
              "      <td>0</td>\n",
              "      <td>4870</td>\n",
              "      <td>0</td>\n",
              "      <td>2</td>\n",
              "      <td>3</td>\n",
              "      <td>2</td>\n",
              "      <td>0</td>\n",
              "      <td>...</td>\n",
              "      <td>3</td>\n",
              "      <td>53</td>\n",
              "      <td>2</td>\n",
              "      <td>2</td>\n",
              "      <td>2</td>\n",
              "      <td>2</td>\n",
              "      <td>2</td>\n",
              "      <td>0</td>\n",
              "      <td>0</td>\n",
              "      <td>0</td>\n",
              "    </tr>\n",
              "  </tbody>\n",
              "</table>\n",
              "<p>5 rows × 21 columns</p>\n",
              "</div>\n",
              "      <button class=\"colab-df-convert\" onclick=\"convertToInteractive('df-4aa79509-ee3d-4c2a-bf82-cff053611222')\"\n",
              "              title=\"Convert this dataframe to an interactive table.\"\n",
              "              style=\"display:none;\">\n",
              "        \n",
              "  <svg xmlns=\"http://www.w3.org/2000/svg\" height=\"24px\"viewBox=\"0 0 24 24\"\n",
              "       width=\"24px\">\n",
              "    <path d=\"M0 0h24v24H0V0z\" fill=\"none\"/>\n",
              "    <path d=\"M18.56 5.44l.94 2.06.94-2.06 2.06-.94-2.06-.94-.94-2.06-.94 2.06-2.06.94zm-11 1L8.5 8.5l.94-2.06 2.06-.94-2.06-.94L8.5 2.5l-.94 2.06-2.06.94zm10 10l.94 2.06.94-2.06 2.06-.94-2.06-.94-.94-2.06-.94 2.06-2.06.94z\"/><path d=\"M17.41 7.96l-1.37-1.37c-.4-.4-.92-.59-1.43-.59-.52 0-1.04.2-1.43.59L10.3 9.45l-7.72 7.72c-.78.78-.78 2.05 0 2.83L4 21.41c.39.39.9.59 1.41.59.51 0 1.02-.2 1.41-.59l7.78-7.78 2.81-2.81c.8-.78.8-2.07 0-2.86zM5.41 20L4 18.59l7.72-7.72 1.47 1.35L5.41 20z\"/>\n",
              "  </svg>\n",
              "      </button>\n",
              "      \n",
              "  <style>\n",
              "    .colab-df-container {\n",
              "      display:flex;\n",
              "      flex-wrap:wrap;\n",
              "      gap: 12px;\n",
              "    }\n",
              "\n",
              "    .colab-df-convert {\n",
              "      background-color: #E8F0FE;\n",
              "      border: none;\n",
              "      border-radius: 50%;\n",
              "      cursor: pointer;\n",
              "      display: none;\n",
              "      fill: #1967D2;\n",
              "      height: 32px;\n",
              "      padding: 0 0 0 0;\n",
              "      width: 32px;\n",
              "    }\n",
              "\n",
              "    .colab-df-convert:hover {\n",
              "      background-color: #E2EBFA;\n",
              "      box-shadow: 0px 1px 2px rgba(60, 64, 67, 0.3), 0px 1px 3px 1px rgba(60, 64, 67, 0.15);\n",
              "      fill: #174EA6;\n",
              "    }\n",
              "\n",
              "    [theme=dark] .colab-df-convert {\n",
              "      background-color: #3B4455;\n",
              "      fill: #D2E3FC;\n",
              "    }\n",
              "\n",
              "    [theme=dark] .colab-df-convert:hover {\n",
              "      background-color: #434B5C;\n",
              "      box-shadow: 0px 1px 3px 1px rgba(0, 0, 0, 0.15);\n",
              "      filter: drop-shadow(0px 1px 2px rgba(0, 0, 0, 0.3));\n",
              "      fill: #FFFFFF;\n",
              "    }\n",
              "  </style>\n",
              "\n",
              "      <script>\n",
              "        const buttonEl =\n",
              "          document.querySelector('#df-4aa79509-ee3d-4c2a-bf82-cff053611222 button.colab-df-convert');\n",
              "        buttonEl.style.display =\n",
              "          google.colab.kernel.accessAllowed ? 'block' : 'none';\n",
              "\n",
              "        async function convertToInteractive(key) {\n",
              "          const element = document.querySelector('#df-4aa79509-ee3d-4c2a-bf82-cff053611222');\n",
              "          const dataTable =\n",
              "            await google.colab.kernel.invokeFunction('convertToInteractive',\n",
              "                                                     [key], {});\n",
              "          if (!dataTable) return;\n",
              "\n",
              "          const docLinkHtml = 'Like what you see? Visit the ' +\n",
              "            '<a target=\"_blank\" href=https://colab.research.google.com/notebooks/data_table.ipynb>data table notebook</a>'\n",
              "            + ' to learn more about interactive tables.';\n",
              "          element.innerHTML = '';\n",
              "          dataTable['output_type'] = 'display_data';\n",
              "          await google.colab.output.renderOutput(dataTable, element);\n",
              "          const docLink = document.createElement('div');\n",
              "          docLink.innerHTML = docLinkHtml;\n",
              "          element.appendChild(docLink);\n",
              "        }\n",
              "      </script>\n",
              "    </div>\n",
              "  </div>\n",
              "  "
            ]
          },
          "metadata": {},
          "execution_count": 25
        }
      ]
    },
    {
      "cell_type": "code",
      "source": [
        "f, axes = plt.subplots(ncols=2, figsize=(12,2))\n",
        "\n",
        "# Positive correlations (The higher the feature the probability increases that it will be a fraud transaction)\n",
        "sns.boxplot(x=\"Cost_MatrixRisk\", y=\"Duration in month\", data=credit_data, palette=colors, ax=axes[0])\n",
        "axes[0].set_title('Duration in month vs Cost_MatrixRisk Class Negative Correlation')\n",
        "\n",
        "sns.boxplot(x=\"Cost_MatrixRisk\", y=\"Credit amount\", data=credit_data, palette=colors, ax=axes[1])\n",
        "axes[1].set_title('Credit amount vs Cost_MatrixRisk Class Negative Correlation')\n",
        "\n",
        "plt.show()"
      ],
      "metadata": {
        "colab": {
          "base_uri": "https://localhost:8080/",
          "height": 188
        },
        "id": "_vAFTcOjOLRH",
        "outputId": "c5ee06d6-30be-4158-fe11-a70ea5e92fb2"
      },
      "execution_count": 26,
      "outputs": [
        {
          "output_type": "display_data",
          "data": {
            "text/plain": [
              "<Figure size 864x144 with 2 Axes>"
            ],
            "image/png": "[encoded data removed]"
          },
          "metadata": {
            "needs_background": "light"
          }
        }
      ]
    },
    {
      "cell_type": "code",
      "source": [
        "f, axes = plt.subplots(ncols=3, figsize=(16,4))\n",
        "\n",
        "# Negative Correlations with our Class (The lower our feature value the more likely it will be a fraud transaction)\n",
        "sns.boxplot(x=\"Cost_MatrixRisk\", y=\"Status of existing checking account\", data=credit_data, palette=colors, ax=axes[0])\n",
        "axes[0].set_title('Status of existing checking account vs Cost_MatrixRisk Class Negative Correlation')\n",
        "\n",
        "sns.boxplot(x=\"Cost_MatrixRisk\", y=\"Credit history\", data=credit_data, palette=colors, ax=axes[1])\n",
        "axes[1].set_title('Credit history vs Cost_MatrixRisk Class Negative Correlation')\n",
        "\n",
        "\n",
        "sns.boxplot(x=\"Cost_MatrixRisk\", y=\"Savings account/bonds\", data=credit_data, palette=colors, ax=axes[2])\n",
        "axes[2].set_title('Savings account/bonds vs Cost_MatrixRisk Class Negative Correlation')\n",
        "\n",
        "plt.show()"
      ],
      "metadata": {
        "colab": {
          "base_uri": "https://localhost:8080/",
          "height": 296
        },
        "id": "-nMDyOlsOLaL",
        "outputId": "c4c8283b-5005-44bb-d29b-e82ac2784c70"
      },
      "execution_count": 27,
      "outputs": [
        {
          "output_type": "display_data",
          "data": {
            "text/plain": [
              "<Figure size 1152x288 with 3 Axes>"
            ],
            "image/png": "[encoded data removed]"
          },
          "metadata": {
            "needs_background": "light"
          }
        }
      ]
    },
    {
      "cell_type": "code",
      "source": [
        "# manual undersampling\n",
        "def undersample_manual(credit_data_df, index):\n",
        "  credit_data_df = credit_data_df.sample(frac=1)\n",
        "  # amount of unsafe classes 300 rows.\n",
        "  unsafe_credit_data_df = credit_data_df.loc[credit_data_df['Cost_MatrixRisk'] == 1]\n",
        "  non_unsafe_credit_data_df = credit_data_df.loc[credit_data_df['Cost_MatrixRisk'] == 0][:index]\n",
        "  normal_distributed_credit_data_df = pd.concat([unsafe_credit_data_df, non_unsafe_credit_data_df])\n",
        "  new_credit_data_df = normal_distributed_credit_data_df.sample(frac=1, random_state=42)\n",
        "  return new_credit_data_df\n",
        "\n",
        "credit_data_Usampling = undersample_manual(credit_data, 300)\n",
        "\n",
        "# checking the distribution of our target variable\n",
        "credit_data_Usampling['Cost_MatrixRisk'].value_counts().plot(kind='bar', title='Manual Undersampling (target column)')"
      ],
      "metadata": {
        "colab": {
          "base_uri": "https://localhost:8080/",
          "height": 295
        },
        "id": "a-PJeIbeOLdd",
        "outputId": "b5fa449a-4743-4014-cf5b-614074f0613b"
      },
      "execution_count": 28,
      "outputs": [
        {
          "output_type": "execute_result",
          "data": {
            "text/plain": [
              "<matplotlib.axes._subplots.AxesSubplot at 0x7f6622fb3f10>"
            ]
          },
          "metadata": {},
          "execution_count": 28
        },
        {
          "output_type": "display_data",
          "data": {
            "text/plain": [
              "<Figure size 432x288 with 1 Axes>"
            ],
            "image/png": "[encoded data removed]"
          },
          "metadata": {
            "needs_background": "light"
          }
        }
      ]
    },
    {
      "cell_type": "code",
      "source": [
        "def oversample_manually(credit_data_df):\n",
        "  # Class count\n",
        "  count_class_0, count_class_1 = credit_data_df.Cost_MatrixRisk.value_counts()\n",
        "  # Divide by class\n",
        "  df_class_0 = credit_data_df[credit_data_df['Cost_MatrixRisk'] == 0]\n",
        "  df_class_1 = credit_data_df[credit_data_df['Cost_MatrixRisk'] == 1]\n",
        "  df_class_1_over = df_class_1.sample(count_class_0, replace=True)\n",
        "  df_credit_data_over = pd.concat([df_class_0, df_class_1_over], axis=0)\n",
        "  print('Random over-sampling:')\n",
        "  print(df_credit_data_over.Cost_MatrixRisk.value_counts())\n",
        "\n",
        "  df_credit_data_over.Cost_MatrixRisk.value_counts().plot(kind='bar', title='Manual Oversampling (target_column)')\n",
        "\n",
        "  return df_credit_data_over\n",
        "\n",
        "credit_data_Osampling = oversample_manually(credit_data)"
      ],
      "metadata": {
        "colab": {
          "base_uri": "https://localhost:8080/",
          "height": 347
        },
        "id": "dWzYHDlKSeqB",
        "outputId": "15710e9a-8f3b-4482-af31-09beea3f71a5"
      },
      "execution_count": 29,
      "outputs": [
        {
          "output_type": "stream",
          "name": "stdout",
          "text": [
            "Random over-sampling:\n",
            "1    698\n",
            "0    300\n",
            "Name: Cost_MatrixRisk, dtype: int64\n"
          ]
        },
        {
          "output_type": "display_data",
          "data": {
            "text/plain": [
              "<Figure size 432x288 with 1 Axes>"
            ],
            "image/png": "[encoded data removed]"
          },
          "metadata": {
            "needs_background": "light"
          }
        }
      ]
    },
    {
      "cell_type": "code",
      "source": [
        "## Imblearn\n",
        "\n",
        "#here we are going to use various imblearn sampling techniques where we weill majorly focus on SMOTE\n"
      ],
      "metadata": {
        "id": "1Uf76T99OLgf"
      },
      "execution_count": 30,
      "outputs": []
    },
    {
      "cell_type": "code",
      "source": [
        "# importing various libraries inside imblearn\n",
        "from imblearn.under_sampling import RandomUnderSampler, TomekLinks, ClusterCentroids\n",
        "from imblearn.over_sampling import RandomOverSampler, SMOTE\n",
        "\n",
        "def sample_imblearn(X, y, sampling):\n",
        "  if sampling == 'under':\n",
        "    rus = RandomUnderSampler()\n",
        "    X_rus, y_rus = rus.fit_resample(X, y)\n",
        "\n",
        "  if sampling == 'over':\n",
        "    rus = RandomOverSampler()\n",
        "    X_rus, y_rus = rus.fit_resample(X, y)\n",
        "\n",
        "  if sampling =='tomek':\n",
        "      rus = TomekLinks()\n",
        "      X_rus, y_rus = rus.fit_resample(X, y)\n",
        "\n",
        "  if sampling == 'smote_under':\n",
        "      rus = SMOTE(ratio='minority')\n",
        "      X_rus, y_rus = rus.fit_resample(X, y)\n",
        "\n",
        "  if sampling == 'smote_over':\n",
        "      rsm = SMOTE(ratio='majority')\n",
        "      X_rus, y_rus = rus.fit_resample(X, y)\n",
        "  return X_rus, y_rus\n",
        "# X, y = sample_imblearn(X, y, sampling):\n",
        "\n",
        "# feature selection\n",
        "X = credit_data.drop('Cost_MatrixRisk', axis=1)\n",
        "y = credit_data['Cost_MatrixRisk']\n",
        "\n",
        "X_smote_over, y_smote_over = sample_imblearn(X, y, 'over')\n",
        "X_smote_under, y_smote_under = sample_imblearn(X, y, 'under')"
      ],
      "metadata": {
        "id": "dTqEyUg0OLkJ"
      },
      "execution_count": 31,
      "outputs": []
    },
    {
      "cell_type": "code",
      "source": [
        "# visualizing the undersamplingsampling techniques\n",
        "colors = [\"#DF0101\",\"#0101DF\"]\n",
        "y_smote_under.value_counts().plot(kind='bar', title='Undersampling(Target column))')"
      ],
      "metadata": {
        "colab": {
          "base_uri": "https://localhost:8080/",
          "height": 295
        },
        "id": "EuZHn5_4OLnf",
        "outputId": "e5ae62d6-5542-4990-eda9-7f0ba66c5437"
      },
      "execution_count": 32,
      "outputs": [
        {
          "output_type": "execute_result",
          "data": {
            "text/plain": [
              "<matplotlib.axes._subplots.AxesSubplot at 0x7f66232ab910>"
            ]
          },
          "metadata": {},
          "execution_count": 32
        },
        {
          "output_type": "display_data",
          "data": {
            "text/plain": [
              "<Figure size 432x288 with 1 Axes>"
            ],
            "image/png": "[encoded data removed]"
          },
          "metadata": {
            "needs_background": "light"
          }
        }
      ]
    },
    {
      "cell_type": "code",
      "source": [
        "# visualizing the SMOTE oversamplingsampling techniques\n",
        "y_smote_over.value_counts().plot(kind='bar', title='Smote Oversampling (target column))')"
      ],
      "metadata": {
        "colab": {
          "base_uri": "https://localhost:8080/",
          "height": 295
        },
        "id": "TPIUm-TFOLqc",
        "outputId": "c0810f42-41b2-42f3-f6a5-1167f308ac61"
      },
      "execution_count": 33,
      "outputs": [
        {
          "output_type": "execute_result",
          "data": {
            "text/plain": [
              "<matplotlib.axes._subplots.AxesSubplot at 0x7f6622e7ac50>"
            ]
          },
          "metadata": {},
          "execution_count": 33
        },
        {
          "output_type": "display_data",
          "data": {
            "text/plain": [
              "<Figure size 432x288 with 1 Axes>"
            ],
            "image/png": "[encoded data removed]"
          },
          "metadata": {
            "needs_background": "light"
          }
        }
      ]
    },
    {
      "cell_type": "markdown",
      "source": [
        "**Modeling**"
      ],
      "metadata": {
        "id": "YSGeqemXP1Oc"
      }
    },
    {
      "cell_type": "markdown",
      "source": [
        "Here we are going to try out various classical machine learning algorithms and see how they perform with both the oversampled and undersampled datasets and see on which cases overfitting is likely to occur or underfitting.\n",
        "\n",
        "This can be judged by how well the trained models will be able to genaralise to the test data which it has never seen before "
      ],
      "metadata": {
        "id": "wXDfikWLP948"
      }
    },
    {
      "cell_type": "code",
      "source": [
        "# train_Usampling is from the manual random undersample data (fewer instances)\n",
        "X_us = credit_data_Usampling.drop('Cost_MatrixRisk', axis=1)\n",
        "y_us = credit_data_Usampling['Cost_MatrixRisk']\n",
        "# train_Osampling is from the manual random Oversampled data (More instances)\n",
        "X_os = credit_data_Osampling.drop('Cost_MatrixRisk', axis=1)\n",
        "y_os = credit_data_Osampling['Cost_MatrixRisk']"
      ],
      "metadata": {
        "id": "Ax1hY1LBSOKo"
      },
      "execution_count": 34,
      "outputs": []
    },
    {
      "cell_type": "code",
      "source": [
        "# splitting our datasets\n",
        "from sklearn.model_selection import train_test_split\n",
        "\n",
        "# manual undersampling  --test_size = 0.15\n",
        "X_train_mus, X_test_mus, y_train_mus, y_test_mus = train_test_split(X_us, y_us, test_size=0.15, random_state=42)\n",
        "\n",
        "# manual oversampling  --test_size = 0.2\n",
        "X_train_mos, X_test_mos, y_train_mos, y_test_mos = train_test_split(X_os, y_os, test_size=0.2, random_state=42)\n",
        "\n",
        "# undersampling  --test_size = 0.2\n",
        "X_train_sus, X_test_sus, y_train_sus, y_test_sus = train_test_split(X_smote_under, y_smote_under, test_size=0.15, random_state=42)\n",
        "\n",
        "\n",
        "# Oversampling  --test_size = 0.2\n",
        "X_train_sos, X_test_sos, y_train_sos, y_test_sos = train_test_split(X_smote_over, y_smote_over, test_size=0.2, random_state=42)\n",
        "#"
      ],
      "metadata": {
        "id": "-Lo8_SZROLxR"
      },
      "execution_count": 35,
      "outputs": []
    },
    {
      "cell_type": "markdown",
      "source": [
        "**Here we'll first start off by assessing the performance of a few baseline algorithms, This is to assess which algorithm performns well and at what scenario of sampled data. below is a dictionary of this classifiers, i.e from a basic logistic regressor to advanced gradient boosted algorithms such as XGBClassifier().**"
      ],
      "metadata": {
        "id": "Kyp3gyCOQpYN"
      }
    },
    {
      "cell_type": "code",
      "source": [
        "# baseline models\n",
        "# Let's implement simple classifiers\n",
        "classifiers = {\n",
        "    \"LogisiticRegression\": LogisticRegression(),\n",
        "    \"KNearest\": KNeighborsClassifier(),\n",
        "    \"Support Vector Classifier\": SVC(),\n",
        "    \"DecisionTreeClassifier\": DecisionTreeClassifier(),\n",
        "    \"Random Forest Classifier\": RandomForestClassifier(),\n",
        "    \"Extreem Gradient Boosting\": XGBClassifier(),\n",
        "    \"Light Gradient Boosting\": LGBMClassifier(),\n",
        "    \"Categorical Gradient Boosting\": CatBoostClassifier(verbose=False)\n",
        "}"
      ],
      "metadata": {
        "id": "DCDyJ3xDOL4N"
      },
      "execution_count": 36,
      "outputs": []
    },
    {
      "cell_type": "code",
      "source": [
        "# manual undersampling\n",
        "print(\"~~~~~~~~~~~~~~~~~~~~~~~~~~~~~~~~~~~Manual Undersampling~~~~~~~~~~~~~~~~~~~~~~~~~~~~~~~~~~~~\")\n",
        "for key, classifier in classifiers.items():\n",
        "    classifier.fit(X_train_mus, y_train_mus)\n",
        "    training_score = cross_val_score(classifier, X_train_mus, y_train_mus, cv=5)\n",
        "    print(\"Classifiers: \", classifier.__class__.__name__, \"training score of\", round(training_score.mean(), 2) * 100, \"% accuracy score\")\n",
        "\n",
        "print(\"~~~~~~~~~~~~~~~~~~~~~~~~~~~~~~~~~~~Manual Oversampling~~~~~~~~~~~~~~~~~~~~~~~~~~~~~~~~~~~~\")\n",
        "for key, classifier in classifiers.items():\n",
        "    classifier.fit(X_train_mos, y_train_mos)\n",
        "    training_score = cross_val_score(classifier, X_train_mos, y_train_mos, cv=5)\n",
        "    print(\"Classifiers: \", classifier.__class__.__name__, \"training score of\", round(training_score.mean(), 2) * 100, \"% accuracy score\")\n",
        "\n",
        "print(\"~~~~~~~~~~~~~~~~~~~~~~~~~~~~~~~~~~~SMOTE Undersampling~~~~~~~~~~~~~~~~~~~~~~~~~~~~~~~~~~~~\")\n",
        "for key, classifier in classifiers.items():\n",
        "    classifier.fit(X_train_sus, y_train_sus)\n",
        "    training_score = cross_val_score(classifier, X_train_sus, y_train_sus, cv=5)\n",
        "    print(\"Classifiers: \", classifier.__class__.__name__, \"training score of\", round(training_score.mean(), 2) * 100, \"% accuracy score\")\n",
        "\n",
        "print(\"~~~~~~~~~~~~~~~~~~~~~~~~~~~~~~~~~~~SMOTE Oversampling~~~~~~~~~~~~~~~~~~~~~~~~~~~~~~~~~~~~\")\n",
        "for key, classifier in classifiers.items():\n",
        "    classifier.fit(X_train_sos, y_train_sos)\n",
        "    training_score = cross_val_score(classifier, X_train_sos, y_train_sos, cv=5)\n",
        "    print(\"Classifiers: \", classifier.__class__.__name__, \"Has a training score of\", round(training_score.mean(), 2) * 100, \"% accuracy score\")"
      ],
      "metadata": {
        "colab": {
          "base_uri": "https://localhost:8080/"
        },
        "id": "yxKsjPKtOL8D",
        "outputId": "6f61d216-70c0-4bb2-ba79-3280f36a6d00"
      },
      "execution_count": 37,
      "outputs": [
        {
          "output_type": "stream",
          "name": "stdout",
          "text": [
            "~~~~~~~~~~~~~~~~~~~~~~~~~~~~~~~~~~~Manual Undersampling~~~~~~~~~~~~~~~~~~~~~~~~~~~~~~~~~~~~\n",
            "Classifiers:  LogisticRegression training score of 75.0 % accuracy score\n",
            "Classifiers:  KNeighborsClassifier training score of 62.0 % accuracy score\n",
            "Classifiers:  SVC training score of 70.0 % accuracy score\n",
            "Classifiers:  DecisionTreeClassifier training score of 67.0 % accuracy score\n",
            "Classifiers:  RandomForestClassifier training score of 75.0 % accuracy score\n",
            "Classifiers:  XGBClassifier training score of 76.0 % accuracy score\n",
            "Classifiers:  LGBMClassifier training score of 77.0 % accuracy score\n",
            "Classifiers:  CatBoostClassifier training score of 76.0 % accuracy score\n",
            "~~~~~~~~~~~~~~~~~~~~~~~~~~~~~~~~~~~Manual Oversampling~~~~~~~~~~~~~~~~~~~~~~~~~~~~~~~~~~~~\n",
            "Classifiers:  LogisticRegression training score of 77.0 % accuracy score\n",
            "Classifiers:  KNeighborsClassifier training score of 65.0 % accuracy score\n",
            "Classifiers:  SVC training score of 70.0 % accuracy score\n",
            "Classifiers:  DecisionTreeClassifier training score of 74.0 % accuracy score\n",
            "Classifiers:  RandomForestClassifier training score of 81.0 % accuracy score\n",
            "Classifiers:  XGBClassifier training score of 80.0 % accuracy score\n",
            "Classifiers:  LGBMClassifier training score of 80.0 % accuracy score\n",
            "Classifiers:  CatBoostClassifier training score of 82.0 % accuracy score\n",
            "~~~~~~~~~~~~~~~~~~~~~~~~~~~~~~~~~~~SMOTE Undersampling~~~~~~~~~~~~~~~~~~~~~~~~~~~~~~~~~~~~\n",
            "Classifiers:  LogisticRegression training score of 69.0 % accuracy score\n",
            "Classifiers:  KNeighborsClassifier training score of 51.0 % accuracy score\n",
            "Classifiers:  SVC training score of 55.00000000000001 % accuracy score\n",
            "Classifiers:  DecisionTreeClassifier training score of 64.0 % accuracy score\n",
            "Classifiers:  RandomForestClassifier training score of 71.0 % accuracy score\n",
            "Classifiers:  XGBClassifier training score of 71.0 % accuracy score\n",
            "Classifiers:  LGBMClassifier training score of 70.0 % accuracy score\n",
            "Classifiers:  CatBoostClassifier training score of 72.0 % accuracy score\n",
            "~~~~~~~~~~~~~~~~~~~~~~~~~~~~~~~~~~~SMOTE Oversampling~~~~~~~~~~~~~~~~~~~~~~~~~~~~~~~~~~~~\n",
            "Classifiers:  LogisticRegression Has a training score of 70.0 % accuracy score\n",
            "Classifiers:  KNeighborsClassifier Has a training score of 61.0 % accuracy score\n",
            "Classifiers:  SVC Has a training score of 53.0 % accuracy score\n",
            "Classifiers:  DecisionTreeClassifier Has a training score of 79.0 % accuracy score\n",
            "Classifiers:  RandomForestClassifier Has a training score of 85.0 % accuracy score\n",
            "Classifiers:  XGBClassifier Has a training score of 77.0 % accuracy score\n",
            "Classifiers:  LGBMClassifier Has a training score of 83.0 % accuracy score\n",
            "Classifiers:  CatBoostClassifier Has a training score of 83.0 % accuracy score\n"
          ]
        }
      ]
    },
    {
      "cell_type": "markdown",
      "source": [
        "We are going to select three best performing algorithms and tune them as well as plot their learning curves to see wether they are overfitting and later on compare the best with a neural network algorithm. This models are:\n",
        "\n",
        "    Logisic Regressor\n",
        "    K-nearest Neighbors Classifier\n",
        "    Random Forest classifier\n",
        "    Light Gradient Boosted Classifier\n",
        "\n",
        "Here henceforth we are going to proceed with SMOTE oversampled training and validation sets"
      ],
      "metadata": {
        "id": "i0O1OrFBTj2y"
      }
    },
    {
      "cell_type": "code",
      "source": [
        "# renaming our data in form of arrays\n",
        "X_train, X_test, y_train, y_test = X_train_sos.values, X_test_sos.values, y_train_sos.values, y_test_sos.values"
      ],
      "metadata": {
        "id": "gMc0icHtTOxO"
      },
      "execution_count": 38,
      "outputs": []
    },
    {
      "cell_type": "code",
      "source": [
        "# Hyper-parameter Tuning\n",
        "# Use GridSearchCV to find the best parameters.\n",
        "from sklearn.model_selection import GridSearchCV\n",
        "\n",
        "# Logistic Regression \n",
        "log_reg_params = {\"penalty\": ['l1', 'l2'], 'C': [0.001, 0.01, 0.1, 1, 10, 100, 1000]}\n",
        "\n",
        "grid_log_reg = GridSearchCV(LogisticRegression(), log_reg_params)\n",
        "grid_log_reg.fit(X_train, y_train)\n",
        "# We automatically get the logistic regression with the best parameters.\n",
        "log_reg = grid_log_reg.best_estimator_\n",
        "\n",
        "knears_params = {\"n_neighbors\": list(range(2,5,1)), 'algorithm': ['auto', 'ball_tree', 'kd_tree', 'brute']}\n",
        "\n",
        "grid_knears = GridSearchCV(KNeighborsClassifier(), knears_params)\n",
        "grid_knears.fit(X_train, y_train)\n",
        "# KNears best estimator\n",
        "knears_neighbors = grid_knears.best_estimator_\n",
        "\n",
        "# Random Forest Classifier\n",
        "rf_params = {\"max_features\":['auto', 'sqrt'], \"min_samples_split\":[2, 5, 10],\n",
        "             \"min_samples_leaf\":[1, 2, 4],  \"bootstrap\":[True, False]}\n",
        "grid_rf = GridSearchCV(RandomForestClassifier(), rf_params)\n",
        "grid_rf.fit(X_train, y_train)\n",
        "\n",
        "# RF best estimator\n",
        "grid_rf = grid_rf.best_estimator_\n",
        "\n",
        "# LGBMClassifier Classifier\n",
        "lgbm_params = {\"criterion\": [\"gini\", \"entropy\"], \"max_depth\": list(range(2,4,1)), \n",
        "              \"min_samples_leaf\": list(range(5,7,1))}\n",
        "grid_lgbm = GridSearchCV(LGBMClassifier(), lgbm_params)\n",
        "grid_lgbm.fit(X_train, y_train)\n",
        "\n",
        "# tree best estimator\n",
        "lgbm_clf = grid_lgbm.best_estimator_"
      ],
      "metadata": {
        "id": "KMLL30lbTPq7"
      },
      "execution_count": 39,
      "outputs": []
    },
    {
      "cell_type": "code",
      "source": [
        "# plotting learning curves\n",
        "# Let's Plot LogisticRegression Learning Curve\n",
        "from sklearn.model_selection import ShuffleSplit\n",
        "from sklearn.model_selection import learning_curve\n",
        "\n",
        "def plot_learning_curve(estimator1, estimator2, estimator3, estimator4, X, y, ylim=None, cv=None,\n",
        "                        n_jobs=1, train_sizes=np.linspace(.1, 1.0, 5)):\n",
        "    f, ((ax1, ax2), (ax3, ax4)) = plt.subplots(2,2, figsize=(20,14), sharey=True)\n",
        "    if ylim is not None:\n",
        "        plt.ylim(*ylim)\n",
        "    # First Estimator\n",
        "    train_sizes, train_scores, test_scores = learning_curve(\n",
        "        estimator1, X, y, cv=cv, n_jobs=n_jobs, train_sizes=train_sizes)\n",
        "    train_scores_mean = np.mean(train_scores, axis=1)\n",
        "    train_scores_std = np.std(train_scores, axis=1)\n",
        "    test_scores_mean = np.mean(test_scores, axis=1)\n",
        "    test_scores_std = np.std(test_scores, axis=1)\n",
        "    ax1.fill_between(train_sizes, train_scores_mean - train_scores_std,\n",
        "                     train_scores_mean + train_scores_std, alpha=0.1,\n",
        "                     color=\"#ff9124\")\n",
        "    ax1.fill_between(train_sizes, test_scores_mean - test_scores_std,\n",
        "                     test_scores_mean + test_scores_std, alpha=0.1, color=\"#2492ff\")\n",
        "    ax1.plot(train_sizes, train_scores_mean, 'o-', color=\"#ff9124\",\n",
        "             label=\"Training score\")\n",
        "    ax1.plot(train_sizes, test_scores_mean, 'o-', color=\"#2492ff\",\n",
        "             label=\"Cross-validation score\")\n",
        "    ax1.set_title(\"Logistic Regression Learning Curve\", fontsize=14)\n",
        "    ax1.set_xlabel('Training size (m)')\n",
        "    ax1.set_ylabel('Score')\n",
        "    ax1.grid(True)\n",
        "    ax1.legend(loc=\"best\")\n",
        "    \n",
        "    # Second Estimator \n",
        "    train_sizes, train_scores, test_scores = learning_curve(\n",
        "        estimator2, X, y, cv=cv, n_jobs=n_jobs, train_sizes=train_sizes)\n",
        "    train_scores_mean = np.mean(train_scores, axis=1)\n",
        "    train_scores_std = np.std(train_scores, axis=1)\n",
        "    test_scores_mean = np.mean(test_scores, axis=1)\n",
        "    test_scores_std = np.std(test_scores, axis=1)\n",
        "    ax2.fill_between(train_sizes, train_scores_mean - train_scores_std,\n",
        "                     train_scores_mean + train_scores_std, alpha=0.1,\n",
        "                     color=\"#ff9124\")\n",
        "    ax2.fill_between(train_sizes, test_scores_mean - test_scores_std,\n",
        "                     test_scores_mean + test_scores_std, alpha=0.1, color=\"#2492ff\")\n",
        "    ax2.plot(train_sizes, train_scores_mean, 'o-', color=\"#ff9124\",\n",
        "             label=\"Training score\")\n",
        "    ax2.plot(train_sizes, test_scores_mean, 'o-', color=\"#2492ff\",\n",
        "             label=\"Cross-validation score\")\n",
        "    ax2.set_title(\"Knears Neighbors Learning Curve\", fontsize=14)\n",
        "    ax2.set_xlabel('Training size (m)')\n",
        "    ax2.set_ylabel('Score')\n",
        "    ax2.grid(True)\n",
        "    ax2.legend(loc=\"best\")\n",
        "    \n",
        "    # Third Estimator\n",
        "    train_sizes, train_scores, test_scores = learning_curve(\n",
        "        estimator3, X, y, cv=cv, n_jobs=n_jobs, train_sizes=train_sizes)\n",
        "    train_scores_mean = np.mean(train_scores, axis=1)\n",
        "    train_scores_std = np.std(train_scores, axis=1)\n",
        "    test_scores_mean = np.mean(test_scores, axis=1)\n",
        "    test_scores_std = np.std(test_scores, axis=1)\n",
        "    ax3.fill_between(train_sizes, train_scores_mean - train_scores_std,\n",
        "                     train_scores_mean + train_scores_std, alpha=0.1,\n",
        "                     color=\"#ff9124\")\n",
        "    ax3.fill_between(train_sizes, test_scores_mean - test_scores_std,\n",
        "                     test_scores_mean + test_scores_std, alpha=0.1, color=\"#2492ff\")\n",
        "    ax3.plot(train_sizes, train_scores_mean, 'o-', color=\"#ff9124\",\n",
        "             label=\"Training score\")\n",
        "    ax3.plot(train_sizes, test_scores_mean, 'o-', color=\"#2492ff\",\n",
        "             label=\"Cross-validation score\")\n",
        "    ax3.set_title(\"Random Forest classifier \\n Learning Curve\", fontsize=14)\n",
        "    ax3.set_xlabel('Training size (m)')\n",
        "    ax3.set_ylabel('Score')\n",
        "    ax3.grid(True)\n",
        "    ax3.legend(loc=\"best\")\n",
        "    \n",
        "    # Fourth Estimator\n",
        "    train_sizes, train_scores, test_scores = learning_curve(\n",
        "        estimator4, X, y, cv=cv, n_jobs=n_jobs, train_sizes=train_sizes)\n",
        "    train_scores_mean = np.mean(train_scores, axis=1)\n",
        "    train_scores_std = np.std(train_scores, axis=1)\n",
        "    test_scores_mean = np.mean(test_scores, axis=1)\n",
        "    test_scores_std = np.std(test_scores, axis=1)\n",
        "    ax4.fill_between(train_sizes, train_scores_mean - train_scores_std,\n",
        "                     train_scores_mean + train_scores_std, alpha=0.1,\n",
        "                     color=\"#ff9124\")\n",
        "    ax4.fill_between(train_sizes, test_scores_mean - test_scores_std,\n",
        "                     test_scores_mean + test_scores_std, alpha=0.1, color=\"#2492ff\")\n",
        "    ax4.plot(train_sizes, train_scores_mean, 'o-', color=\"#ff9124\",\n",
        "             label=\"Training score\")\n",
        "    ax4.plot(train_sizes, test_scores_mean, 'o-', color=\"#2492ff\",\n",
        "             label=\"Cross-validation score\")\n",
        "    ax4.set_title(\"LGBM Classifier \\n Learning Curve\", fontsize=14)\n",
        "    ax4.set_xlabel('Training size (m)')\n",
        "    ax4.set_ylabel('Score')\n",
        "    ax4.grid(True)\n",
        "    ax4.legend(loc=\"best\")\n",
        "    \n",
        "    return plt"
      ],
      "metadata": {
        "id": "4HUgCKR2TPyP"
      },
      "execution_count": 40,
      "outputs": []
    },
    {
      "cell_type": "code",
      "source": [
        "# calling the learning curve function\n",
        "cv = ShuffleSplit(n_splits=100, test_size=0.2, random_state=42)\n",
        "plot_learning_curve(log_reg, knears_neighbors, grid_rf, lgbm_clf, X_train, y_train, (0.75, 1.01), cv=cv, n_jobs=4)"
      ],
      "metadata": {
        "colab": {
          "base_uri": "https://localhost:8080/",
          "height": 857
        },
        "id": "s6rhn8H-TP5r",
        "outputId": "7aef92ee-65b3-4a31-cced-b127d32d007a"
      },
      "execution_count": 41,
      "outputs": [
        {
          "output_type": "execute_result",
          "data": {
            "text/plain": [
              "<module 'matplotlib.pyplot' from '/usr/local/lib/python3.7/dist-packages/matplotlib/pyplot.py'>"
            ]
          },
          "metadata": {},
          "execution_count": 41
        },
        {
          "output_type": "display_data",
          "data": {
            "text/plain": [
              "<Figure size 1440x1008 with 4 Axes>"
            ],
            "image/png": "[encoded data removed]"
          },
          "metadata": {
            "needs_background": "light"
          }
        }
      ]
    },
    {
      "cell_type": "markdown",
      "source": [
        "Plotting an ROC Curve for the 4 best classifiers"
      ],
      "metadata": {
        "id": "70aPnqFPU9cv"
      }
    },
    {
      "cell_type": "code",
      "source": [
        "from sklearn.metrics import roc_curve\n",
        "from sklearn.model_selection import cross_val_predict\n",
        "# Create a DataFrame with all the scores and the classifiers names.\n",
        "\n",
        "log_reg_pred = cross_val_predict(log_reg, X_test, y_test, cv=5,\n",
        "                             method=\"decision_function\")\n",
        "\n",
        "knears_pred = cross_val_predict(knears_neighbors, X_test, y_test, cv=5)\n",
        "\n",
        "rf_pred = cross_val_predict(grid_rf, X_test, y_test, cv=5,\n",
        "                             )\n",
        "\n",
        "lgbm_pred = cross_val_predict(lgbm_clf, X_test, y_test, cv=5)"
      ],
      "metadata": {
        "id": "YV8YEBpZU7hj"
      },
      "execution_count": 42,
      "outputs": []
    },
    {
      "cell_type": "code",
      "source": [
        "from sklearn.metrics import roc_auc_score\n",
        "\n",
        "print('Logistic Regression: ', roc_auc_score(y_test, log_reg_pred))\n",
        "print('KNears Neighbors: ', roc_auc_score(y_test, knears_pred))\n",
        "print('Random Forest Classifier: ', roc_auc_score(y_test, rf_pred))\n",
        "print('LGBM Classifier: ', roc_auc_score(y_test, lgbm_pred))"
      ],
      "metadata": {
        "colab": {
          "base_uri": "https://localhost:8080/"
        },
        "id": "mJTfOUjXU73_",
        "outputId": "5ab0a65e-655e-4ccd-acde-0a52bf32618c"
      },
      "execution_count": 43,
      "outputs": [
        {
          "output_type": "stream",
          "name": "stdout",
          "text": [
            "Logistic Regression:  0.7562191611842105\n",
            "KNears Neighbors:  0.606702302631579\n",
            "Random Forest Classifier:  0.7288240131578947\n",
            "LGBM Classifier:  0.713404605263158\n"
          ]
        }
      ]
    },
    {
      "cell_type": "code",
      "source": [
        "# ROC Curve\n",
        "log_fpr, log_tpr, log_thresold = roc_curve(y_test, log_reg_pred)\n",
        "knear_fpr, knear_tpr, knear_threshold = roc_curve(y_test, knears_pred)\n",
        "rf_fpr, rf_tpr, rf_threshold = roc_curve(y_test, rf_pred)\n",
        "lgbm_fpr, lgbm_tpr, lgbm_threshold = roc_curve(y_test, lgbm_pred)\n",
        "\n",
        "\n",
        "def graph_roc_curve_multiple(log_fpr, log_tpr, knear_fpr, knear_tpr, rf_fpr, rf_tpr, lgbm_fpr, lgbm_tpr):\n",
        "    plt.figure(figsize=(16,8))\n",
        "    plt.title('ROC Curve \\n Top 4 Classifiers', fontsize=18)\n",
        "    plt.plot(log_fpr, log_tpr, label='Logistic Regression Classifier Score: {:.4f}'.format(roc_auc_score(y_test, log_reg_pred)))\n",
        "    plt.plot(knear_fpr, knear_tpr, label='KNears Neighbors Classifier Score: {:.4f}'.format(roc_auc_score(y_test, knears_pred)))\n",
        "    plt.plot(rf_fpr, rf_tpr, label='Random Forest Classifier Score: {:.4f}'.format(roc_auc_score(y_test, rf_pred)))\n",
        "    plt.plot(lgbm_fpr, lgbm_tpr, label='LGBM Classifier Score: {:.4f}'.format(roc_auc_score(y_test, lgbm_pred)))\n",
        "    plt.plot([0, 1], [0, 1], 'k--')\n",
        "    plt.axis([-0.01, 1, 0, 1])\n",
        "    plt.xlabel('False Positive Rate', fontsize=16)\n",
        "    plt.ylabel('True Positive Rate', fontsize=16)\n",
        "    plt.annotate('Minimum ROC Score of 50% \\n (This is the minimum score to get)', xy=(0.5, 0.5), xytext=(0.6, 0.3),\n",
        "                arrowprops=dict(facecolor='#6E726D', shrink=0.05),\n",
        "                )\n",
        "    plt.legend()\n",
        "    \n",
        "graph_roc_curve_multiple(log_fpr, log_tpr, knear_fpr, knear_tpr, rf_fpr, rf_tpr, lgbm_fpr, lgbm_tpr)\n",
        "plt.show()\n",
        "plt.savefig('ROC Curve')"
      ],
      "metadata": {
        "colab": {
          "base_uri": "https://localhost:8080/",
          "height": 560
        },
        "id": "dDBhDYWHU79K",
        "outputId": "f85d1191-469c-4861-90f4-2ddc2c7df119"
      },
      "execution_count": 44,
      "outputs": [
        {
          "output_type": "display_data",
          "data": {
            "text/plain": [
              "<Figure size 1152x576 with 1 Axes>"
            ],
            "image/png": "[encoded data removed]"
          },
          "metadata": {
            "needs_background": "light"
          }
        },
        {
          "output_type": "display_data",
          "data": {
            "text/plain": [
              "<Figure size 432x288 with 0 Axes>"
            ]
          },
          "metadata": {}
        }
      ]
    },
    {
      "cell_type": "markdown",
      "source": [
        "**Classification reports and final comparisons with neural nets**"
      ],
      "metadata": {
        "id": "SAIJfp_UYi_I"
      }
    },
    {
      "cell_type": "code",
      "source": [
        "from sklearn.metrics import confusion_matrix\n",
        "\n",
        "# Logistic Regression fitted using SMOTE technique\n",
        "y_pred_log_reg = log_reg.predict(X_test)\n",
        "\n",
        "# Other models fitted with UnderSampling\n",
        "y_pred_knear = knears_neighbors.predict(X_test)\n",
        "y_pred_rf = grid_rf.predict(X_test)\n",
        "y_pred_lgbm = lgbm_clf.predict(X_test)\n",
        "\n",
        "\n",
        "log_reg_cf = confusion_matrix(y_test, y_pred_log_reg)\n",
        "kneighbors_cf = confusion_matrix(y_test, y_pred_knear)\n",
        "rf_cf = confusion_matrix(y_test, y_pred_rf)\n",
        "lgbm_cf = confusion_matrix(y_test, y_pred_lgbm)\n",
        "\n",
        "fig, ax = plt.subplots(2, 2,figsize=(22,12))\n",
        "\n",
        "\n",
        "sns.heatmap(log_reg_cf, ax=ax[0][0], annot=True, cmap=plt.cm.copper)\n",
        "ax[0, 0].set_title(\"Logistic Regression \\n Confusion Matrix\", fontsize=14)\n",
        "ax[0, 0].set_xticklabels(['', ''], fontsize=14, rotation=90)\n",
        "ax[0, 0].set_yticklabels(['', ''], fontsize=14, rotation=360)\n",
        "\n",
        "sns.heatmap(kneighbors_cf, ax=ax[0][1], annot=True, cmap=plt.cm.copper)\n",
        "ax[0][1].set_title(\"KNearsNeighbors \\n Confusion Matrix\", fontsize=14)\n",
        "ax[0][1].set_xticklabels(['', ''], fontsize=14, rotation=90)\n",
        "ax[0][1].set_yticklabels(['', ''], fontsize=14, rotation=360)\n",
        "\n",
        "sns.heatmap(rf_cf, ax=ax[1][0], annot=True, cmap=plt.cm.copper)\n",
        "ax[1][0].set_title(\"Random Forest Classifier \\n Confusion Matrix\", fontsize=14)\n",
        "ax[1][0].set_xticklabels(['', ''], fontsize=14, rotation=90)\n",
        "ax[1][0].set_yticklabels(['', ''], fontsize=14, rotation=360)\n",
        "\n",
        "sns.heatmap(lgbm_cf, ax=ax[1][1], annot=True, cmap=plt.cm.copper)\n",
        "ax[1][1].set_title(\"LGBM Classifier \\n Confusion Matrix\", fontsize=14)\n",
        "ax[1][1].set_xticklabels(['', ''], fontsize=14, rotation=90)\n",
        "ax[1][1].set_yticklabels(['', ''], fontsize=14, rotation=360)\n",
        "\n",
        "\n",
        "plt.show()\n",
        "plt.savefig('Confusion Matrix')"
      ],
      "metadata": {
        "colab": {
          "base_uri": "https://localhost:8080/",
          "height": 733
        },
        "id": "fqtc_PuAU8Km",
        "outputId": "920338f1-3250-4d2c-c579-01d75c6b6212"
      },
      "execution_count": 45,
      "outputs": [
        {
          "output_type": "display_data",
          "data": {
            "text/plain": [
              "<Figure size 1584x864 with 8 Axes>"
            ],
            "image/png": "[encoded data removed]"
          },
          "metadata": {
            "needs_background": "light"
          }
        },
        {
          "output_type": "display_data",
          "data": {
            "text/plain": [
              "<Figure size 432x288 with 0 Axes>"
            ]
          },
          "metadata": {}
        }
      ]
    },
    {
      "cell_type": "code",
      "source": [
        "from sklearn.metrics import classification_report\n",
        "\n",
        "print('Logistic Regression:')\n",
        "print(classification_report(y_test, y_pred_log_reg))\n",
        "\n",
        "print('KNears Neighbors:')\n",
        "print(classification_report(y_test, y_pred_knear))\n",
        "\n",
        "print('Random Forest Classifier:')\n",
        "print(classification_report(y_test, y_pred_rf))\n",
        "\n",
        "print('LGBM Classifier:')\n",
        "print(classification_report(y_test, y_pred_lgbm))"
      ],
      "metadata": {
        "colab": {
          "base_uri": "https://localhost:8080/"
        },
        "id": "FzhBxqWlYeTM",
        "outputId": "54ff058b-d007-4a53-aaa0-51622f320b76"
      },
      "execution_count": 46,
      "outputs": [
        {
          "output_type": "stream",
          "name": "stdout",
          "text": [
            "Logistic Regression:\n",
            "              precision    recall  f1-score   support\n",
            "\n",
            "           0       0.68      0.72      0.70       128\n",
            "           1       0.75      0.71      0.73       152\n",
            "\n",
            "    accuracy                           0.71       280\n",
            "   macro avg       0.71      0.71      0.71       280\n",
            "weighted avg       0.72      0.71      0.71       280\n",
            "\n",
            "KNears Neighbors:\n",
            "              precision    recall  f1-score   support\n",
            "\n",
            "           0       0.61      0.84      0.71       128\n",
            "           1       0.80      0.54      0.65       152\n",
            "\n",
            "    accuracy                           0.68       280\n",
            "   macro avg       0.71      0.69      0.68       280\n",
            "weighted avg       0.71      0.68      0.67       280\n",
            "\n",
            "Random Forest Classifier:\n",
            "              precision    recall  f1-score   support\n",
            "\n",
            "           0       0.86      0.88      0.87       128\n",
            "           1       0.89      0.88      0.89       152\n",
            "\n",
            "    accuracy                           0.88       280\n",
            "   macro avg       0.88      0.88      0.88       280\n",
            "weighted avg       0.88      0.88      0.88       280\n",
            "\n",
            "LGBM Classifier:\n",
            "              precision    recall  f1-score   support\n",
            "\n",
            "           0       0.73      0.84      0.78       128\n",
            "           1       0.84      0.74      0.79       152\n",
            "\n",
            "    accuracy                           0.79       280\n",
            "   macro avg       0.79      0.79      0.79       280\n",
            "weighted avg       0.79      0.79      0.79       280\n",
            "\n"
          ]
        }
      ]
    },
    {
      "cell_type": "markdown",
      "source": [
        "**Implementing SMOTE Using Deep learning**"
      ],
      "metadata": {
        "id": "Xt1bwcUO0saL"
      }
    },
    {
      "cell_type": "code",
      "source": [
        "# redefining our smote oversampled data\n",
        "X_train_sos, X_test_sos, y_train_sos, y_test_sos = X_train_sos.values, X_test_sos.values, y_train_sos.values, y_test_sos.values"
      ],
      "metadata": {
        "id": "YddutO2pYeg8"
      },
      "execution_count": 47,
      "outputs": []
    },
    {
      "cell_type": "code",
      "source": [
        "from imblearn.over_sampling import SMOTE"
      ],
      "metadata": {
        "id": "SWY4_IC-qHrR"
      },
      "execution_count": 48,
      "outputs": []
    },
    {
      "cell_type": "code",
      "source": [
        "X = credit_data.drop('Cost_MatrixRisk',axis='columns')\n",
        "y = credit_data['Cost_MatrixRisk']"
      ],
      "metadata": {
        "id": "lg0zGn4nqlOL"
      },
      "execution_count": 49,
      "outputs": []
    },
    {
      "cell_type": "code",
      "source": [
        "smote_technique = SMOTE(sampling_strategy='minority')\n",
        "X_smt, y_smt = smote_technique.fit_resample(X, y)\n",
        "\n",
        "y_smt.value_counts()"
      ],
      "metadata": {
        "colab": {
          "base_uri": "https://localhost:8080/"
        },
        "id": "5EwEJrIlqlTo",
        "outputId": "15452173-11b2-4d21-a3f4-6e6d1e4fb33a"
      },
      "execution_count": 50,
      "outputs": [
        {
          "output_type": "execute_result",
          "data": {
            "text/plain": [
              "1    698\n",
              "0    698\n",
              "Name: Cost_MatrixRisk, dtype: int64"
            ]
          },
          "metadata": {},
          "execution_count": 50
        }
      ]
    },
    {
      "cell_type": "code",
      "source": [
        "import tensorflow as tf\n",
        "from tensorflow import keras\n",
        "from sklearn.metrics import confusion_matrix , classification_report"
      ],
      "metadata": {
        "id": "6_OY6ASJr0aM"
      },
      "execution_count": 51,
      "outputs": []
    },
    {
      "cell_type": "code",
      "source": [
        "dnn_model = keras.Sequential([\n",
        "    keras.layers.Dense(20, input_shape=(20,), activation='relu'),\n",
        "    keras.layers.Dense(15, activation='relu'),\n",
        "    keras.layers.Dense(1, activation='sigmoid')\n",
        "])\n",
        "\n",
        "dnn_model.compile(optimizer='adam',\n",
        "              loss='binary_crossentropy',\n",
        "              metrics=['accuracy'])"
      ],
      "metadata": {
        "id": "2-G-Zj7cr3B7"
      },
      "execution_count": 52,
      "outputs": []
    },
    {
      "cell_type": "code",
      "source": [
        "#Fitting the model with training data\n",
        "dnn_model.fit(X_train_sos, y_train_sos, validation_split=0.2, batch_size=300, epochs=50, shuffle=True, verbose=2)"
      ],
      "metadata": {
        "colab": {
          "base_uri": "https://localhost:8080/"
        },
        "id": "v_lrrfxOqlds",
        "outputId": "7371e703-06a6-4ad4-fe36-a18a32ac1e72"
      },
      "execution_count": 53,
      "outputs": [
        {
          "output_type": "stream",
          "name": "stdout",
          "text": [
            "Epoch 1/50\n",
            "3/3 - 3s - loss: 495.3058 - accuracy: 0.4933 - val_loss: 460.2458 - val_accuracy: 0.4732 - 3s/epoch - 890ms/step\n",
            "Epoch 2/50\n",
            "3/3 - 0s - loss: 443.1974 - accuracy: 0.4933 - val_loss: 412.2066 - val_accuracy: 0.4732 - 27ms/epoch - 9ms/step\n",
            "Epoch 3/50\n",
            "3/3 - 0s - loss: 396.0929 - accuracy: 0.4933 - val_loss: 364.2842 - val_accuracy: 0.4732 - 26ms/epoch - 9ms/step\n",
            "Epoch 4/50\n",
            "3/3 - 0s - loss: 346.7413 - accuracy: 0.4933 - val_loss: 316.8683 - val_accuracy: 0.4732 - 27ms/epoch - 9ms/step\n",
            "Epoch 5/50\n",
            "3/3 - 0s - loss: 299.6374 - accuracy: 0.4933 - val_loss: 269.5584 - val_accuracy: 0.4732 - 27ms/epoch - 9ms/step\n",
            "Epoch 6/50\n",
            "3/3 - 0s - loss: 252.5099 - accuracy: 0.4933 - val_loss: 222.3693 - val_accuracy: 0.4732 - 27ms/epoch - 9ms/step\n",
            "Epoch 7/50\n",
            "3/3 - 0s - loss: 206.3632 - accuracy: 0.4933 - val_loss: 175.1289 - val_accuracy: 0.4732 - 29ms/epoch - 10ms/step\n",
            "Epoch 8/50\n",
            "3/3 - 0s - loss: 160.1904 - accuracy: 0.4933 - val_loss: 127.8530 - val_accuracy: 0.4732 - 26ms/epoch - 9ms/step\n",
            "Epoch 9/50\n",
            "3/3 - 0s - loss: 111.2591 - accuracy: 0.4933 - val_loss: 80.9397 - val_accuracy: 0.4732 - 29ms/epoch - 10ms/step\n",
            "Epoch 10/50\n",
            "3/3 - 0s - loss: 65.2507 - accuracy: 0.4933 - val_loss: 36.5897 - val_accuracy: 0.4732 - 27ms/epoch - 9ms/step\n",
            "Epoch 11/50\n",
            "3/3 - 0s - loss: 23.6180 - accuracy: 0.4910 - val_loss: 2.2704 - val_accuracy: 0.5268 - 27ms/epoch - 9ms/step\n",
            "Epoch 12/50\n",
            "3/3 - 0s - loss: 9.7896 - accuracy: 0.5067 - val_loss: 20.5807 - val_accuracy: 0.5268 - 27ms/epoch - 9ms/step\n",
            "Epoch 13/50\n",
            "3/3 - 0s - loss: 25.2476 - accuracy: 0.5067 - val_loss: 27.7690 - val_accuracy: 0.5268 - 26ms/epoch - 9ms/step\n",
            "Epoch 14/50\n",
            "3/3 - 0s - loss: 30.0894 - accuracy: 0.5067 - val_loss: 25.7206 - val_accuracy: 0.5268 - 26ms/epoch - 9ms/step\n",
            "Epoch 15/50\n",
            "3/3 - 0s - loss: 24.6925 - accuracy: 0.5067 - val_loss: 15.4237 - val_accuracy: 0.5268 - 37ms/epoch - 12ms/step\n",
            "Epoch 16/50\n",
            "3/3 - 0s - loss: 11.4254 - accuracy: 0.5067 - val_loss: 0.9948 - val_accuracy: 0.5714 - 26ms/epoch - 9ms/step\n",
            "Epoch 17/50\n",
            "3/3 - 0s - loss: 6.4919 - accuracy: 0.5056 - val_loss: 12.7590 - val_accuracy: 0.4732 - 26ms/epoch - 9ms/step\n",
            "Epoch 18/50\n",
            "3/3 - 0s - loss: 11.8452 - accuracy: 0.4933 - val_loss: 7.0975 - val_accuracy: 0.4866 - 26ms/epoch - 9ms/step\n",
            "Epoch 19/50\n",
            "3/3 - 0s - loss: 4.3167 - accuracy: 0.5123 - val_loss: 5.4741 - val_accuracy: 0.5268 - 26ms/epoch - 9ms/step\n",
            "Epoch 20/50\n",
            "3/3 - 0s - loss: 7.1966 - accuracy: 0.5067 - val_loss: 7.1568 - val_accuracy: 0.5268 - 27ms/epoch - 9ms/step\n",
            "Epoch 21/50\n",
            "3/3 - 0s - loss: 6.0259 - accuracy: 0.5067 - val_loss: 1.3277 - val_accuracy: 0.5580 - 26ms/epoch - 9ms/step\n",
            "Epoch 22/50\n",
            "3/3 - 0s - loss: 3.2365 - accuracy: 0.5336 - val_loss: 5.8715 - val_accuracy: 0.4911 - 28ms/epoch - 9ms/step\n",
            "Epoch 23/50\n",
            "3/3 - 0s - loss: 4.3063 - accuracy: 0.5235 - val_loss: 1.2610 - val_accuracy: 0.5670 - 25ms/epoch - 8ms/step\n",
            "Epoch 24/50\n",
            "3/3 - 0s - loss: 2.5272 - accuracy: 0.5325 - val_loss: 2.9073 - val_accuracy: 0.5268 - 26ms/epoch - 9ms/step\n",
            "Epoch 25/50\n",
            "3/3 - 0s - loss: 1.9692 - accuracy: 0.5415 - val_loss: 2.2006 - val_accuracy: 0.5179 - 27ms/epoch - 9ms/step\n",
            "Epoch 26/50\n",
            "3/3 - 0s - loss: 2.0714 - accuracy: 0.5639 - val_loss: 0.9839 - val_accuracy: 0.5804 - 26ms/epoch - 9ms/step\n",
            "Epoch 27/50\n",
            "3/3 - 0s - loss: 1.7424 - accuracy: 0.5460 - val_loss: 1.3181 - val_accuracy: 0.5759 - 44ms/epoch - 15ms/step\n",
            "Epoch 28/50\n",
            "3/3 - 0s - loss: 1.4616 - accuracy: 0.5639 - val_loss: 1.5934 - val_accuracy: 0.5223 - 27ms/epoch - 9ms/step\n",
            "Epoch 29/50\n",
            "3/3 - 0s - loss: 1.1940 - accuracy: 0.5863 - val_loss: 1.6371 - val_accuracy: 0.5491 - 27ms/epoch - 9ms/step\n",
            "Epoch 30/50\n",
            "3/3 - 0s - loss: 1.2891 - accuracy: 0.5605 - val_loss: 1.4836 - val_accuracy: 0.5268 - 26ms/epoch - 9ms/step\n",
            "Epoch 31/50\n",
            "3/3 - 0s - loss: 1.2315 - accuracy: 0.5717 - val_loss: 1.0923 - val_accuracy: 0.5714 - 26ms/epoch - 9ms/step\n",
            "Epoch 32/50\n",
            "3/3 - 0s - loss: 0.9561 - accuracy: 0.5908 - val_loss: 1.0335 - val_accuracy: 0.5446 - 27ms/epoch - 9ms/step\n",
            "Epoch 33/50\n",
            "3/3 - 0s - loss: 0.9084 - accuracy: 0.6065 - val_loss: 0.8935 - val_accuracy: 0.6027 - 27ms/epoch - 9ms/step\n",
            "Epoch 34/50\n",
            "3/3 - 0s - loss: 0.9245 - accuracy: 0.5930 - val_loss: 0.8263 - val_accuracy: 0.5580 - 26ms/epoch - 9ms/step\n",
            "Epoch 35/50\n",
            "3/3 - 0s - loss: 0.8272 - accuracy: 0.5818 - val_loss: 0.8633 - val_accuracy: 0.5804 - 26ms/epoch - 9ms/step\n",
            "Epoch 36/50\n",
            "3/3 - 0s - loss: 0.8068 - accuracy: 0.5987 - val_loss: 0.8361 - val_accuracy: 0.5759 - 26ms/epoch - 9ms/step\n",
            "Epoch 37/50\n",
            "3/3 - 0s - loss: 0.7920 - accuracy: 0.5964 - val_loss: 0.8475 - val_accuracy: 0.5804 - 28ms/epoch - 9ms/step\n",
            "Epoch 38/50\n",
            "3/3 - 0s - loss: 0.7878 - accuracy: 0.6065 - val_loss: 0.8119 - val_accuracy: 0.5625 - 27ms/epoch - 9ms/step\n",
            "Epoch 39/50\n",
            "3/3 - 0s - loss: 0.8224 - accuracy: 0.6143 - val_loss: 0.8687 - val_accuracy: 0.5848 - 27ms/epoch - 9ms/step\n",
            "Epoch 40/50\n",
            "3/3 - 0s - loss: 0.8502 - accuracy: 0.5942 - val_loss: 0.8385 - val_accuracy: 0.5759 - 29ms/epoch - 10ms/step\n",
            "Epoch 41/50\n",
            "3/3 - 0s - loss: 0.7812 - accuracy: 0.6155 - val_loss: 0.8053 - val_accuracy: 0.5714 - 27ms/epoch - 9ms/step\n",
            "Epoch 42/50\n",
            "3/3 - 0s - loss: 0.7941 - accuracy: 0.6076 - val_loss: 0.8713 - val_accuracy: 0.5938 - 27ms/epoch - 9ms/step\n",
            "Epoch 43/50\n",
            "3/3 - 0s - loss: 0.8323 - accuracy: 0.6110 - val_loss: 0.9207 - val_accuracy: 0.5625 - 27ms/epoch - 9ms/step\n",
            "Epoch 44/50\n",
            "3/3 - 0s - loss: 0.8569 - accuracy: 0.5930 - val_loss: 0.8748 - val_accuracy: 0.5893 - 27ms/epoch - 9ms/step\n",
            "Epoch 45/50\n",
            "3/3 - 0s - loss: 0.8453 - accuracy: 0.6244 - val_loss: 0.7974 - val_accuracy: 0.5670 - 31ms/epoch - 10ms/step\n",
            "Epoch 46/50\n",
            "3/3 - 0s - loss: 0.8560 - accuracy: 0.5998 - val_loss: 0.8772 - val_accuracy: 0.5670 - 37ms/epoch - 12ms/step\n",
            "Epoch 47/50\n",
            "3/3 - 0s - loss: 0.7945 - accuracy: 0.6323 - val_loss: 0.8360 - val_accuracy: 0.5938 - 26ms/epoch - 9ms/step\n",
            "Epoch 48/50\n",
            "3/3 - 0s - loss: 0.7895 - accuracy: 0.6244 - val_loss: 0.8340 - val_accuracy: 0.5804 - 26ms/epoch - 9ms/step\n",
            "Epoch 49/50\n",
            "3/3 - 0s - loss: 0.8254 - accuracy: 0.6054 - val_loss: 0.8651 - val_accuracy: 0.5670 - 26ms/epoch - 9ms/step\n",
            "Epoch 50/50\n",
            "3/3 - 0s - loss: 0.8077 - accuracy: 0.6289 - val_loss: 0.8477 - val_accuracy: 0.5893 - 29ms/epoch - 10ms/step\n"
          ]
        },
        {
          "output_type": "execute_result",
          "data": {
            "text/plain": [
              "<keras.callbacks.History at 0x7f6612c8f510>"
            ]
          },
          "metadata": {},
          "execution_count": 53
        }
      ]
    },
    {
      "cell_type": "code",
      "source": [
        "dnn_preds_smt = dnn_model.predict(X_test_mos)\n",
        "dnn_preds_smt = np.round(dnn_preds_smt)"
      ],
      "metadata": {
        "colab": {
          "base_uri": "https://localhost:8080/"
        },
        "id": "OyO8lCuOsYau",
        "outputId": "e6354aaa-f4f3-4eb4-9fef-7f85b00e6fb5"
      },
      "execution_count": 54,
      "outputs": [
        {
          "output_type": "stream",
          "name": "stdout",
          "text": [
            "7/7 [==============================] - 0s 2ms/step\n"
          ]
        }
      ]
    },
    {
      "cell_type": "code",
      "source": [
        "print(classification_report(y_test_mos,dnn_preds_smt))"
      ],
      "metadata": {
        "colab": {
          "base_uri": "https://localhost:8080/"
        },
        "id": "Ki7gmlO-sYTD",
        "outputId": "f3620a55-d054-40bd-9691-7d288499c5a5"
      },
      "execution_count": 55,
      "outputs": [
        {
          "output_type": "stream",
          "name": "stdout",
          "text": [
            "              precision    recall  f1-score   support\n",
            "\n",
            "           0       0.31      0.68      0.43        57\n",
            "           1       0.76      0.40      0.52       143\n",
            "\n",
            "    accuracy                           0.48       200\n",
            "   macro avg       0.54      0.54      0.48       200\n",
            "weighted avg       0.63      0.48      0.50       200\n",
            "\n"
          ]
        }
      ]
    },
    {
      "cell_type": "code",
      "source": [
        "# ROC Curve\n",
        "rf_fpr, rf_tpr, rf_threshold = roc_curve(y_test_mos, dnn_preds_smt)\n",
        "\n",
        "def graph_roc_curve_multiple(rf_fpr, rf_tpr):\n",
        "    plt.figure(figsize=(16,8))\n",
        "    plt.plot(rf_fpr, rf_tpr, label='Neural Network: {:.4f}'.format(roc_auc_score(y_test, rf_pred)))\n",
        "    plt.plot([0, 1], [0, 1], 'k--')\n",
        "    plt.axis([-0.01, 1, 0, 1])\n",
        "    plt.xlabel('False Positive Rate', fontsize=16)\n",
        "    plt.ylabel('True Positive Rate', fontsize=16)\n",
        "    plt.annotate('Minimum ROC Score of 50% \\n (This is the minimum score to get)', xy=(0.5, 0.5), xytext=(0.6, 0.3),\n",
        "                arrowprops=dict(facecolor='#6E726D', shrink=0.05),\n",
        "                )\n",
        "    plt.legend()\n",
        "    \n",
        "graph_roc_curve_multiple(rf_fpr, rf_tpr)\n",
        "plt.show()"
      ],
      "metadata": {
        "id": "G0iwxwufsYkc",
        "colab": {
          "base_uri": "https://localhost:8080/",
          "height": 506
        },
        "outputId": "8c637a03-d6ed-4bcd-f52c-692e1187584d"
      },
      "execution_count": 56,
      "outputs": [
        {
          "output_type": "display_data",
          "data": {
            "text/plain": [
              "<Figure size 1152x576 with 1 Axes>"
            ],
            "image/png": "[encoded data removed]"
          },
          "metadata": {
            "needs_background": "light"
          }
        }
      ]
    },
    {
      "cell_type": "code",
      "source": [
        "import itertools\n",
        "\n",
        "# Create a confusion matrix\n",
        "def plot_confusion_matrix(cm, classes,\n",
        "                          normalize=False,\n",
        "                          title='Confusion matrix',\n",
        "                          cmap=plt.cm.Blues):\n",
        "    \"\"\"\n",
        "    This function prints and plots the confusion matrix.\n",
        "    Normalization can be applied by setting `normalize=True`.\n",
        "    \"\"\"\n",
        "    if normalize:\n",
        "        cm = cm.astype('float') / cm.sum(axis=1)[:, np.newaxis]\n",
        "        print(\"Normalized confusion matrix\")\n",
        "    else:\n",
        "        print('Confusion matrix, without normalization')\n",
        "\n",
        "    print(cm)\n",
        "\n",
        "    plt.imshow(cm, interpolation='nearest', cmap=cmap)\n",
        "    plt.title(title, fontsize=14)\n",
        "    plt.colorbar()\n",
        "    tick_marks = np.arange(len(classes))\n",
        "    plt.xticks(tick_marks, classes, rotation=45)\n",
        "    plt.yticks(tick_marks, classes)\n",
        "\n",
        "    fmt = '.2f' if normalize else 'd'\n",
        "    thresh = cm.max() / 2.\n",
        "    for i, j in itertools.product(range(cm.shape[0]), range(cm.shape[1])):\n",
        "        plt.text(j, i, format(cm[i, j], fmt),\n",
        "                 horizontalalignment=\"center\",\n",
        "                 color=\"white\" if cm[i, j] > thresh else \"black\")\n",
        "\n",
        "    plt.tight_layout()\n",
        "    plt.ylabel('True label')\n",
        "    plt.xlabel('Predicted label')"
      ],
      "metadata": {
        "id": "HdIP0AA3dQ51"
      },
      "execution_count": 57,
      "outputs": []
    },
    {
      "cell_type": "code",
      "source": [
        "oversample_manual = confusion_matrix(y_test_mos, dnn_preds_smt)\n",
        "actual_cm = confusion_matrix(y_test_mos, y_test_mos)\n",
        "labels = ['Frauds', 'No Frauds']\n",
        "\n",
        "fig = plt.figure(figsize=(16,8))\n",
        "\n",
        "fig.add_subplot(222)\n",
        "plot_confusion_matrix(actual_cm, labels, title=\"Confusion Matrix \\n \", cmap=plt.cm.Greens)"
      ],
      "metadata": {
        "colab": {
          "base_uri": "https://localhost:8080/",
          "height": 410
        },
        "id": "LLTTnZE5dRD_",
        "outputId": "b4e5aa13-964f-4460-c601-73a72c5d6a61"
      },
      "execution_count": 58,
      "outputs": [
        {
          "output_type": "stream",
          "name": "stdout",
          "text": [
            "Confusion matrix, without normalization\n",
            "[[ 57   0]\n",
            " [  0 143]]\n"
          ]
        },
        {
          "output_type": "display_data",
          "data": {
            "text/plain": [
              "<Figure size 1152x576 with 2 Axes>"
            ],
            "image/png": "[encoded data removed]"
          },
          "metadata": {
            "needs_background": "light"
          }
        }
      ]
    },
    {
      "cell_type": "code",
      "source": [],
      "metadata": {
        "id": "0lfHHTjHezGm"
      },
      "execution_count": 70,
      "outputs": []
    }
  ],
  "metadata": {
    "accelerator": "GPU",
    "colab": {
      "provenance": []
    },
    "kernelspec": {
      "display_name": "Python 3 (ipykernel)",
      "language": "python",
      "name": "python3"
    },
    "language_info": {
      "codemirror_mode": {
        "name": "ipython",
        "version": 3
      },
      "file_extension": ".py",
      "mimetype": "text/x-python",
      "name": "python",
      "nbconvert_exporter": "python",
      "pygments_lexer": "ipython3",
      "version": "3.9.12"
    }
  },
  "nbformat": 4,
  "nbformat_minor": 0
}